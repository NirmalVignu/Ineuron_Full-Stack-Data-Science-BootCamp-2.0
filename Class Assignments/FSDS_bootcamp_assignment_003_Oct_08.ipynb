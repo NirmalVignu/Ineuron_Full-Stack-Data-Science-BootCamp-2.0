{
 "cells": [
  {
   "cell_type": "markdown",
   "metadata": {
    "id": "cyOfbWCdOjEr"
   },
   "source": [
    "### Name: Varigonda Sai Nirmal Vignu\n",
    "### Email: varigondanirmal1@gmail.com"
   ]
  },
  {
   "cell_type": "markdown",
   "metadata": {
    "id": "GT4IytkJMNa-"
   },
   "source": [
    "## Python String Manipulation\n",
    "\n",
    "1. Count the number of times `iNeuron` appears in the string.\n",
    "```python\n",
    "text = \"Welcome to iNeuron, You are a part of FSDS Bootcamp 2 in iNeuron. I hope you are enjoying the course by iNeuron\"\n",
    "```\n",
    "2. Check if position `5` to `11` ends with the phrase `iNeuron.` in the string \n",
    "```python\n",
    "txt = \"Hello, welcome to FSDS 2.0 at iNeuron.\"\n",
    "```\n",
    "3. Write a program that takes your full name as input and displays the abbreviations of the first and middle names except the last name which is displayed as it is. For example, if your name is Sunny Bhaveen Chandra, then the output should be S.B.Chandra.\n",
    "\n",
    "4. Join all items in a list into a string, using a hash(`#`) character as separator:\n",
    "```python\n",
    "LIST = [\"My\", \"name\", \"is\", \"Rishav\", \"Dash\"]\n",
    "```\n",
    "5. Write example for the following string manipulation function,\n",
    "\n",
    "  ```\n",
    "  - isdecimal()\n",
    "  - islower()\n",
    "  - isupper()\n",
    "  - isalpha()\n",
    "  - isnumeric()\n",
    "\n",
    "  ```\n",
    "6. Indian PAN card format follows the following formats - \n",
    "    - `AYEPC7894X`\n",
    "    - `ABCDE9999Y`\n",
    "  Take user input for PAN_CARD and validate as per the above example.\n"
   ]
  },
  {
   "cell_type": "markdown",
   "metadata": {},
   "source": [
    "### Answer -1"
   ]
  },
  {
   "cell_type": "code",
   "execution_count": 2,
   "metadata": {
    "id": "KwVni9gipNi-"
   },
   "outputs": [
    {
     "name": "stdout",
     "output_type": "stream",
     "text": [
      "Given text = Welcome to iNeuron, You are a part of FSDS Bootcamp 2 in iNeuron. I hope you are enjoying the course by iNeuron\n",
      "No of times iNeuron appears in above text = 3\n"
     ]
    }
   ],
   "source": [
    "text = \"Welcome to iNeuron, You are a part of FSDS Bootcamp 2 in iNeuron. I hope you are enjoying the course by iNeuron\"\n",
    "print(f\"Given text = {text}\")\n",
    "print(f\"No of times iNeuron appears in above text = {text.count('iNeuron')}\")"
   ]
  },
  {
   "cell_type": "markdown",
   "metadata": {},
   "source": [
    "### Answer-2"
   ]
  },
  {
   "cell_type": "code",
   "execution_count": 8,
   "metadata": {},
   "outputs": [
    {
     "name": "stdout",
     "output_type": "stream",
     "text": [
      " position 5 to 11 is not ends with the phrase iNeuron, it is ending with ', welc'\n"
     ]
    }
   ],
   "source": [
    "txt = \"Hello, welcome to FSDS 2.0 at iNeuron.\"\n",
    "if txt[5:11]=='iNeuron':\n",
    "    print(\" position 5 to 11 ends with the phrase iNeuron.\")\n",
    "else:\n",
    "    print(f\" position 5 to 11 is not ends with the phrase iNeuron, it is ending with '{txt[5:11]}'\")"
   ]
  },
  {
   "cell_type": "markdown",
   "metadata": {},
   "source": [
    "### Answer-3"
   ]
  },
  {
   "cell_type": "code",
   "execution_count": 1,
   "metadata": {},
   "outputs": [
    {
     "name": "stdout",
     "output_type": "stream",
     "text": [
      "Enter your full name: Varigonda Nirmal Vignu\n",
      "V.N.Vignu\n"
     ]
    }
   ],
   "source": [
    "name=input(\"Enter your full name: \")\n",
    "firstname,middlename,lastname=name.split(' ')\n",
    "print(firstname[0]+\".\"+middlename[0]+\".\"+lastname)"
   ]
  },
  {
   "cell_type": "markdown",
   "metadata": {},
   "source": [
    "### Answer-4"
   ]
  },
  {
   "cell_type": "code",
   "execution_count": 6,
   "metadata": {},
   "outputs": [
    {
     "name": "stdout",
     "output_type": "stream",
     "text": [
      "My#name#is#Rishav#Dash\n"
     ]
    }
   ],
   "source": [
    "LIST = [\"My\", \"name\", \"is\", \"Rishav\", \"Dash\"]\n",
    "s=\"#\".join(LIST)\n",
    "print(s)\n",
    "#print(type(s))"
   ]
  },
  {
   "cell_type": "markdown",
   "metadata": {},
   "source": [
    "### Answer-5"
   ]
  },
  {
   "cell_type": "markdown",
   "metadata": {},
   "source": [
    "#### isdecimal()"
   ]
  },
  {
   "cell_type": "code",
   "execution_count": 18,
   "metadata": {},
   "outputs": [
    {
     "name": "stdout",
     "output_type": "stream",
     "text": [
      "10 is decimal = True\n",
      "Ap31 is decimal = False\n",
      "0 is decimal = True\n"
     ]
    }
   ],
   "source": [
    "n1=\"10\"\n",
    "print(f\"{n1} is decimal = {n1.isdecimal()}\")\n",
    "n2=\"Ap31\"\n",
    "print(f\"{n2} is decimal = {n2.isdecimal()}\")\n",
    "n3 = \"\\u0030\" #unicode for 0\n",
    "print(f\"{n3} is decimal = {n3.isdecimal()}\")\n"
   ]
  },
  {
   "cell_type": "markdown",
   "metadata": {},
   "source": [
    "#### islower()"
   ]
  },
  {
   "cell_type": "code",
   "execution_count": 10,
   "metadata": {},
   "outputs": [
    {
     "name": "stdout",
     "output_type": "stream",
     "text": [
      "nirmal is lower = True\n",
      "Nirmal is lower = False\n"
     ]
    }
   ],
   "source": [
    "s1=\"nirmal\"\n",
    "print(f\"{s1} is lower = {s1.islower()}\")\n",
    "s2=\"Nirmal\"\n",
    "print(f\"{s2} is lower = {s2.islower()}\")"
   ]
  },
  {
   "cell_type": "markdown",
   "metadata": {},
   "source": [
    "#### isupper()"
   ]
  },
  {
   "cell_type": "code",
   "execution_count": 16,
   "metadata": {},
   "outputs": [
    {
     "name": "stdout",
     "output_type": "stream",
     "text": [
      "NIRMAL is upper = True\n",
      "Nirmal Vignu is upper = False\n"
     ]
    }
   ],
   "source": [
    "s1=\"NIRMAL\"\n",
    "print(f\"{s1} is upper = {s1.isupper()}\")\n",
    "s2=\"Nirmal Vignu\"\n",
    "print(f\"{s2} is upper = {s2.isupper()}\")"
   ]
  },
  {
   "cell_type": "markdown",
   "metadata": {},
   "source": [
    "#### isalpha()"
   ]
  },
  {
   "cell_type": "code",
   "execution_count": 20,
   "metadata": {},
   "outputs": [
    {
     "name": "stdout",
     "output_type": "stream",
     "text": [
      "NirmalV is alpha = True\n",
      "Nirmal21 is upper = False\n"
     ]
    }
   ],
   "source": [
    "s1=\"NirmalV\"\n",
    "print(f\"{s1} is alpha = {s1.isalpha()}\")\n",
    "s2=\"Nirmal21\"\n",
    "print(f\"{s2} is upper = {s2.isalpha()}\")"
   ]
  },
  {
   "cell_type": "markdown",
   "metadata": {},
   "source": [
    "#### isnumeric()"
   ]
  },
  {
   "cell_type": "code",
   "execution_count": 23,
   "metadata": {},
   "outputs": [
    {
     "name": "stdout",
     "output_type": "stream",
     "text": [
      "10 is numeric = True\n",
      "-29 is numeric = False\n",
      "10.5 is numeric = False\n"
     ]
    }
   ],
   "source": [
    "n1=\"10\"\n",
    "print(f\"{n1} is numeric = {n1.isnumeric()}\")\n",
    "n2=\"-29\"\n",
    "print(f\"{n2} is numeric = {n2.isnumeric()}\")\n",
    "n3 = \"10.5\" #unicode for 0\n",
    "print(f\"{n3} is numeric = {n3.isnumeric()}\")\n",
    "#\"-29\" and \"10.5\" are NOT considered numeric values, because all the characters in the string must be numeric, and the - and the . are not."
   ]
  },
  {
   "cell_type": "markdown",
   "metadata": {},
   "source": [
    "### Answer-6"
   ]
  },
  {
   "cell_type": "code",
   "execution_count": 28,
   "metadata": {},
   "outputs": [
    {
     "name": "stdout",
     "output_type": "stream",
     "text": [
      "Enter your PAN Card numberWFEAFEGR\n",
      "WFEAFEGR is invalid PAN number\n"
     ]
    }
   ],
   "source": [
    "pan=input(\"Enter your PAN Card number \")\n",
    "if pan.isupper() and pan.isalnum() and len(pan)==10:\n",
    "    print(f\"{pan} is a Valid PAN number\")\n",
    "else:\n",
    "    print(f\"{pan} is invalid PAN number\")"
   ]
  },
  {
   "cell_type": "markdown",
   "metadata": {},
   "source": [
    "#### Another method\n",
    "\n",
    "Pan numbers are in fromat\n",
    "* it is of lenght 10 \n",
    "* all letters are upper case\n",
    "* it's a alphanumeric string\n",
    "\n",
    "Examples - \n",
    "\n",
    "AYEPC7894X\n",
    "\n",
    "ABCDE9999Y\n",
    "\n",
    "Let s=AYEPC7894X\n",
    "\n",
    "\n",
    "AYEPC + 7894 + X\n",
    "\n",
    "s[0:5]-> is string #check with isalpha() \n",
    "\n",
    "s[5:9]-> is numeric #check with isnumeirc()\n",
    "\n",
    "s[9] -> is string #check with isaplha()\n",
    "\n"
   ]
  },
  {
   "cell_type": "code",
   "execution_count": 38,
   "metadata": {},
   "outputs": [],
   "source": [
    "def panValidation():\n",
    "    pan=input(\"Enter your PAN Card number \")\n",
    "    if pan.isupper() and len(pan)==10:\n",
    "        if pan[0:5].isalpha() and pan[5:9].isnumeric and pan[9].isalpha():\n",
    "            print(f\"{pan} is a Valid PAN number\")\n",
    "        else:\n",
    "            print(f\"{pan} is invalid PAN number\")\n",
    "    else:\n",
    "        print(f\"{pan} is invalid PAN number\")\n"
   ]
  },
  {
   "cell_type": "code",
   "execution_count": 40,
   "metadata": {},
   "outputs": [
    {
     "name": "stdout",
     "output_type": "stream",
     "text": [
      "Enter your PAN Card number KIXSP9765S\n",
      "KIXSP9765S is a Valid PAN number\n"
     ]
    }
   ],
   "source": [
    "panValidation()"
   ]
  },
  {
   "cell_type": "code",
   "execution_count": 41,
   "metadata": {},
   "outputs": [
    {
     "name": "stdout",
     "output_type": "stream",
     "text": [
      "Enter your PAN Card number KIdX7PP915\n",
      "KIdX7PP915 is invalid PAN number\n"
     ]
    }
   ],
   "source": [
    "panValidation()"
   ]
  }
 ],
 "metadata": {
  "colab": {
   "collapsed_sections": [],
   "provenance": []
  },
  "kernelspec": {
   "display_name": "Python 3 (ipykernel)",
   "language": "python",
   "name": "python3"
  },
  "language_info": {
   "codemirror_mode": {
    "name": "ipython",
    "version": 3
   },
   "file_extension": ".py",
   "mimetype": "text/x-python",
   "name": "python",
   "nbconvert_exporter": "python",
   "pygments_lexer": "ipython3",
   "version": "3.9.12"
  }
 },
 "nbformat": 4,
 "nbformat_minor": 1
}
