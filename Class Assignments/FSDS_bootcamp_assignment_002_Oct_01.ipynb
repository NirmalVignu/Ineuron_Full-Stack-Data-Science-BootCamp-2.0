{
 "cells": [
  {
   "cell_type": "markdown",
   "metadata": {
    "id": "cyOfbWCdOjEr"
   },
   "source": [
    "### Name: Varigonda Sai Nirmal Vignu\n",
    "### Email: varigondanirmal1@gmail.com"
   ]
  },
  {
   "cell_type": "markdown",
   "metadata": {
    "id": "GT4IytkJMNa-"
   },
   "source": [
    "\n",
    "1. What is indentation error? Why indentation is important? Give one simple example?\n",
    "\n",
    "2. Correct the following code and write the comment where you made the correction?\n",
    "\n",
    "  ```python\n",
    "  class_started = bool(input(\"Hey friend, is class started?: [0-False/1-True]\"))\n",
    "\n",
    "  if class_started:\n",
    "      print(\"Since class started...\")\n",
    "      print(\"Lets concentrate\")\n",
    "  else:\n",
    "      print(\"Since class is not started...\")\n",
    "      print(\"let's revise\")    \n",
    "  ```\n",
    "\n",
    "  **HINT:** Refer your data type conversion class\n",
    "\n",
    "3. Use if else condition to verify that dataype of `input()` method in python is always string.\n",
    "\n",
    "4. Take 3 variables and assign integer values to them. Find the largest variable, by only using the if and else conditions.\n",
    "\n",
    "\n",
    "5. What would be the solution?\n",
    "    1. True\n",
    "    2. False\n",
    "\n",
    "    ```python\n",
    "    a = 6\n",
    "    b = 10\n",
    "    print( not ( not a == 10 or not b == 10) )\n",
    "    ```\n",
    "    \n",
    "6. Find the answer as well as find out the reason behind the result? -\n",
    "    - case 1:\n",
    "        ```python\n",
    "        A = 5.0\n",
    "        B = 10/2\n",
    "        print(A is B)\n",
    "        ```\n",
    "    - case 2:\n",
    "        ```python\n",
    "        A = 5.0\n",
    "        B = int(10/2)\n",
    "        print(A is B)\n",
    "        ```\n",
    "    - case 3:\n",
    "        ```python\n",
    "        A = 5.0\n",
    "        B = float(10/2)\n",
    "        print(A is B)\n",
    "        ```"
   ]
  },
  {
   "cell_type": "markdown",
   "metadata": {
    "id": "a_4kbBVWNY-4"
   },
   "source": [
    "### Try to understand the following examples and answer the question based on it - \n",
    "    \n",
    "**Arithmatic Operators**\n",
    "\n",
    "|Operation|Meaning|\n",
    "|:-:|:-:|\n",
    "| **+** |addition|\n",
    "| **-** |subtraction|\n",
    "| **\\*** |multiplication|\n",
    "| **/** |true division|\n",
    "| **//** |integer division|\n",
    "| **%** |the modulo operator|\n",
    "\n",
    "\n",
    "Here `+`, `-`, `*`, `/` are regular arithmatic operators. Lets look at the `//` and `%` operators\n",
    "\n",
    "Usecase or examples - \n",
    "    \n",
    "```python\n",
    "var_a = 5\n",
    "var_b = 25\n",
    "integer_division = var_b // var_a\n",
    "print(f\"integer division: {var_b}/{var_a}={integer_division}\")\n",
    "```\n",
    "\n",
    "OUTPUT: integer division: 25/5=5\n",
    "\n",
    "```python\n",
    "var_a = 3\n",
    "var_b = 25\n",
    "integer_division = var_b // var_a\n",
    "print(f\"integer division: {var_b}/{var_a}={integer_division}\")\n",
    "```\n",
    "\n",
    "OUTPUT: integer division: 25/3=8\n",
    "\n",
    "```python\n",
    "var_a = 5\n",
    "var_b = 25\n",
    "remainder = var_b % var_a\n",
    "print(f\"remainder: {var_b}/{var_a} is {remainder}\")\n",
    "```\n",
    "\n",
    "OUTPUT: remainder: 25/5 is 0\n",
    "\n",
    "```python\n",
    "var_a = 3\n",
    "var_b = 25\n",
    "remainder = var_b % var_a\n",
    "print(f\"remainder: {var_b}/{var_a} is {remainder}\")\n",
    "```\n",
    "\n",
    "OUTPUT: remainder: 25/3 is 1\n",
    "\n"
   ]
  },
  {
   "cell_type": "markdown",
   "metadata": {
    "id": "v288WPlMNxmM"
   },
   "source": [
    "### Answer below questions on the above theory - \n",
    "\n",
    "7. Write a program that asks the user to enter a number. You should print out a message to the user, either “That number is divisible by either 3 or 5”, or “That number is not divisible by either 3 or 5”. Be sure to consider the data type of the input you are taking in from the user. Use a single if/else block to solve this problem.\n",
    "\n",
    "8. Take user input for length and width. Then calculate the area of rectangle. Also print as per length and width whether its a square of rectangle.\n",
    "\n",
    "9. Take two variable radius_1 and radius_2 and calculate the area of circle_1 and circle_2. Also print which circle has large area. If area is equal then print area is equal.\n",
    "\n",
    "10. Check whether a year is leap year or not. Use nested if...else to solve this problem. A leap year is exactly divisible by 4 except for century years (years ending with 00). The century year is a leap year only if it is perfectly divisible by 400."
   ]
  },
  {
   "cell_type": "markdown",
   "metadata": {},
   "source": [
    "### Question-1"
   ]
  },
  {
   "cell_type": "markdown",
   "metadata": {},
   "source": [
    "#### Intendation error\n",
    "The indentation error can occur when the spaces or tabs are not placed properly\n",
    "The indentation is an essential and mandatory concept that should be followed when writing a python code; otherwise, the python interpreter throws IndentationError.\n",
    "\n",
    "#### Why it is important?\n",
    "Python treats the statements with the same indentation level (statements with an equal number of whitespaces before them) as a single code block. So whereas in languages like c, c++, etc. a block of code is represented by Curly braces { }, in python a block is a group of statements that have the same Indentation level\n"
   ]
  },
  {
   "cell_type": "code",
   "execution_count": 1,
   "metadata": {},
   "outputs": [
    {
     "ename": "IndentationError",
     "evalue": "expected an indented block (2201071039.py, line 3)",
     "output_type": "error",
     "traceback": [
      "\u001b[1;36m  Input \u001b[1;32mIn [1]\u001b[1;36m\u001b[0m\n\u001b[1;33m    print(\"HI Welcome\")\u001b[0m\n\u001b[1;37m    ^\u001b[0m\n\u001b[1;31mIndentationError\u001b[0m\u001b[1;31m:\u001b[0m expected an indented block\n"
     ]
    }
   ],
   "source": [
    "## Indentation Error\n",
    "if True:\n",
    "print(\"HI Welcome\")"
   ]
  },
  {
   "cell_type": "code",
   "execution_count": 2,
   "metadata": {},
   "outputs": [
    {
     "name": "stdout",
     "output_type": "stream",
     "text": [
      "HI Welcome\n"
     ]
    }
   ],
   "source": [
    "## with Intendation\n",
    "if True:\n",
    "    print(\"HI Welcome\")"
   ]
  },
  {
   "cell_type": "markdown",
   "metadata": {
    "id": "XumyqFp6MHnv"
   },
   "source": [
    "### Question-2"
   ]
  },
  {
   "cell_type": "code",
   "execution_count": 11,
   "metadata": {},
   "outputs": [
    {
     "name": "stdout",
     "output_type": "stream",
     "text": [
      "Hey friend, is class started?: [0-False/1-True]0\n",
      "Since class is not started...\n",
      "let's revise\n"
     ]
    }
   ],
   "source": [
    "\"\"\"Added extra type conersion int() after input and before converting to bool() because when we taken an input using input()\n",
    "its treated as string and when we convert str into bool it always take it as 1-true so there is need to change to int() \n",
    "before converting to bool to treat 0 as false and 1 as true\"\"\"\n",
    "class_started = bool(int(input(\"Hey friend, is class started?: [0-False/1-True]\")))\n",
    "\n",
    "if class_started:\n",
    "    print(\"Since class started...\")\n",
    "    print(\"Lets concentrate\")\n",
    "else:\n",
    "    print(\"Since class is not started...\")\n",
    "    print(\"let's revise\") "
   ]
  },
  {
   "cell_type": "markdown",
   "metadata": {},
   "source": [
    "### Question-3"
   ]
  },
  {
   "cell_type": "code",
   "execution_count": 18,
   "metadata": {},
   "outputs": [
    {
     "name": "stdout",
     "output_type": "stream",
     "text": [
      "Enter any input121\n",
      "Given input is String\n"
     ]
    }
   ],
   "source": [
    "input1=input(\"Enter any input\")\n",
    "if type(input1)==str:\n",
    "    print(\"Given input is String\")\n",
    "else:\n",
    "    print(\"Given input is not String\")"
   ]
  },
  {
   "cell_type": "markdown",
   "metadata": {},
   "source": [
    "### Question-4"
   ]
  },
  {
   "cell_type": "code",
   "execution_count": 24,
   "metadata": {},
   "outputs": [
    {
     "name": "stdout",
     "output_type": "stream",
     "text": [
      "Enter 1st number 1\n",
      "Enter 2nd number 2\n",
      "Enter 3rd number 78\n",
      "78 is greater than 1 and 2\n"
     ]
    }
   ],
   "source": [
    "num1=int(input('Enter 1st number '))\n",
    "num2=int(input(\"Enter 2nd number \"))\n",
    "num3=int(input(\"Enter 3rd number \"))\n",
    "if(num1>num2 and num1>num3):\n",
    "    print(f\"{num1} is greater than {num2} and {num3}\")\n",
    "elif(num2>num3):\n",
    "    print(f\"{num2} is greater than {num1} and {num3}\")\n",
    "else:\n",
    "    print(f\"{num3} is greater than {num1} and {num2}\")"
   ]
  },
  {
   "cell_type": "markdown",
   "metadata": {},
   "source": [
    "### Question-5"
   ]
  },
  {
   "cell_type": "code",
   "execution_count": 4,
   "metadata": {},
   "outputs": [
    {
     "name": "stdout",
     "output_type": "stream",
     "text": [
      "False\n"
     ]
    }
   ],
   "source": [
    "a = 6\n",
    "b = 10\n",
    "print( not ( not a == 10 or not b == 10) )\n",
    "# not(not (False) or not(True))--> not(True or False)--> not(True)--> False"
   ]
  },
  {
   "cell_type": "markdown",
   "metadata": {},
   "source": [
    "### Question-6"
   ]
  },
  {
   "cell_type": "code",
   "execution_count": 21,
   "metadata": {},
   "outputs": [
    {
     "name": "stdout",
     "output_type": "stream",
     "text": [
      "False\n"
     ]
    }
   ],
   "source": [
    "# case 1:\n",
    "A = 5.0\n",
    "B = 10/2\n",
    "print(A is B)"
   ]
  },
  {
   "cell_type": "code",
   "execution_count": 11,
   "metadata": {},
   "outputs": [
    {
     "name": "stdout",
     "output_type": "stream",
     "text": [
      "2267506624144\n",
      "2267502569040\n"
     ]
    }
   ],
   "source": [
    "print(id(A))\n",
    "print(id(B))"
   ]
  },
  {
   "cell_type": "markdown",
   "metadata": {},
   "source": [
    "##### The answer is False because  A is B means here is will check if A and B are in same memory block, As both the values are equal and both values are same type of Float, In this case the float value containing variable may contain same data but reason behind is to mathematical rules. The only two value are consider after the point & remaining are value get neglected. so the we get two different addresses of the same data containing variables we can see they are present is different meomry blocks which is showed by  using id() in above code cell"
   ]
  },
  {
   "cell_type": "code",
   "execution_count": 13,
   "metadata": {},
   "outputs": [
    {
     "name": "stdout",
     "output_type": "stream",
     "text": [
      "False\n"
     ]
    }
   ],
   "source": [
    "# case 2:\n",
    "A = 5.0\n",
    "B = int(10/2)\n",
    "print(A is B)"
   ]
  },
  {
   "cell_type": "markdown",
   "metadata": {},
   "source": [
    "print(id(A))\n",
    "print(id(B))"
   ]
  },
  {
   "cell_type": "markdown",
   "metadata": {},
   "source": [
    "##### The answer is False because  A is B means here is will check if A and B are in same memory block, it is possible when A and B have same values, but here A is Float value and B is int value , and the id also checked using id() in the above code cell"
   ]
  },
  {
   "cell_type": "code",
   "execution_count": 22,
   "metadata": {},
   "outputs": [
    {
     "name": "stdout",
     "output_type": "stream",
     "text": [
      "False\n"
     ]
    }
   ],
   "source": [
    "#case 3:\n",
    "A = 5.0\n",
    "B = float(10/2)\n",
    "print(A is B)"
   ]
  },
  {
   "cell_type": "code",
   "execution_count": 23,
   "metadata": {},
   "outputs": [
    {
     "name": "stdout",
     "output_type": "stream",
     "text": [
      "2267503970032\n",
      "2267515297264\n"
     ]
    }
   ],
   "source": [
    "print(id(A))\n",
    "print(id(B))"
   ]
  },
  {
   "cell_type": "markdown",
   "metadata": {},
   "source": [
    "##### The answer is False because  A is B means here is will check if A and B are in same memory block, As both the values are equal and both values are same type of Float, In this case the float value containing variable may contain same data but reason behind is to mathematical rules. The only two value are consider after the point & remaining are value get neglected. so the we get two different addresses of the same data containing variables we can see they are present is different meomry blocks which is showed by  using id() in above code cell"
   ]
  },
  {
   "cell_type": "markdown",
   "metadata": {},
   "source": [
    "### Question-7"
   ]
  },
  {
   "cell_type": "code",
   "execution_count": 30,
   "metadata": {},
   "outputs": [
    {
     "name": "stdout",
     "output_type": "stream",
     "text": [
      "Enter a number = 12\n",
      "12 is divisible by either 3 or 5\n"
     ]
    }
   ],
   "source": [
    "num=int(input(\"Enter a number = \"))\n",
    "if num%3==0 or num%5==0:\n",
    "    print(f\"{num} is divisible by either 3 or 5\")\n",
    "else:\n",
    "    print(f\"{num} is not divisible by either 3 or 5\")"
   ]
  },
  {
   "cell_type": "markdown",
   "metadata": {},
   "source": [
    "### Question-8"
   ]
  },
  {
   "cell_type": "code",
   "execution_count": 1,
   "metadata": {},
   "outputs": [
    {
     "name": "stdout",
     "output_type": "stream",
     "text": [
      "Enter value of lenght (in cms)12\n",
      "Enter value of width (in cms)11\n",
      "This is a rectangle \n",
      "The area of rectangle is 132 sqcms\n"
     ]
    }
   ],
   "source": [
    "length=int(input(\"Enter value of lenght (in cms)\"))\n",
    "width=int(input(\"Enter value of width (in cms)\"))\n",
    "area=length*width\n",
    "if length==width:\n",
    "    print(\"This is a square \")\n",
    "    print(f\"The area of square is {area} sqcms\")\n",
    "else:\n",
    "    print(\"This is a rectangle \")\n",
    "    print(f\"The area of rectangle is {area} sqcms\")"
   ]
  },
  {
   "cell_type": "markdown",
   "metadata": {},
   "source": [
    "### Question-9"
   ]
  },
  {
   "cell_type": "code",
   "execution_count": 40,
   "metadata": {},
   "outputs": [
    {
     "name": "stdout",
     "output_type": "stream",
     "text": [
      "Enter radius of circle 1 = 12\n",
      "Enter radius of circle 2 = 11\n",
      "Area of circle 1 is greater tha circle 2\n"
     ]
    }
   ],
   "source": [
    "import math\n",
    "radius_1=int(input(\"Enter radius of circle 1 = \"))\n",
    "radius_2=int(input(\"Enter radius of circle 2 = \"))\n",
    "area1=math.pi*radius_1**2\n",
    "area2=math.pi*radius_2**2\n",
    "if(area1==area2):\n",
    "    print(\"Area of both circles are equal\")\n",
    "elif(area1>area2):\n",
    "    print(\"Area of circle 1 is greater tha circle 2\")\n",
    "else:\n",
    "    print(\"Area of circle 2 is greater tha circle 1\")\n",
    "    "
   ]
  },
  {
   "cell_type": "markdown",
   "metadata": {},
   "source": [
    "### Question-10"
   ]
  },
  {
   "cell_type": "code",
   "execution_count": 43,
   "metadata": {},
   "outputs": [
    {
     "name": "stdout",
     "output_type": "stream",
     "text": [
      "Enter the year : 2022\n",
      "2022 is not a leap year!\n"
     ]
    }
   ],
   "source": [
    "year = int(input(\"Enter the year : \"))\n",
    "if (year % 4) == 0:\n",
    "    if (year % 100) == 0:\n",
    "        if (year % 400) == 0:\n",
    "            print(f\"{year} is a leap year\")\n",
    "        else:\n",
    "            print(f\"{year} is a not leap year\")\n",
    "    else:\n",
    "        print(f\"{year} is a leap year\")\n",
    "else:\n",
    "    print(f\"{year} is not a leap year\")"
   ]
  }
 ],
 "metadata": {
  "colab": {
   "collapsed_sections": [],
   "provenance": []
  },
  "kernelspec": {
   "display_name": "Python 3 (ipykernel)",
   "language": "python",
   "name": "python3"
  },
  "language_info": {
   "codemirror_mode": {
    "name": "ipython",
    "version": 3
   },
   "file_extension": ".py",
   "mimetype": "text/x-python",
   "name": "python",
   "nbconvert_exporter": "python",
   "pygments_lexer": "ipython3",
   "version": "3.9.12"
  }
 },
 "nbformat": 4,
 "nbformat_minor": 1
}
