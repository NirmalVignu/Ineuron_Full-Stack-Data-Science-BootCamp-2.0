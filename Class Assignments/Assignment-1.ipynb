{
 "cells": [
  {
   "cell_type": "markdown",
   "id": "250b2835",
   "metadata": {},
   "source": [
    "### Name: Varigonda Sai Nirmal Vignu\n",
    "### Email: varigondanirmal1@gmail.com"
   ]
  },
  {
   "cell_type": "markdown",
   "id": "90ef35e9",
   "metadata": {},
   "source": [
    "## 1. Find out all the types of error that we have encountered in our lecture and why? Also include the examples."
   ]
  },
  {
   "cell_type": "code",
   "execution_count": 1,
   "id": "dfe02f2b",
   "metadata": {},
   "outputs": [
    {
     "ename": "NameError",
     "evalue": "name 'Print' is not defined",
     "output_type": "error",
     "traceback": [
      "\u001b[1;31m---------------------------------------------------------------------------\u001b[0m",
      "\u001b[1;31mNameError\u001b[0m                                 Traceback (most recent call last)",
      "Input \u001b[1;32mIn [1]\u001b[0m, in \u001b[0;36m<cell line: 1>\u001b[1;34m()\u001b[0m\n\u001b[1;32m----> 1\u001b[0m \u001b[43mPrint\u001b[49m(\u001b[38;5;124m\"\u001b[39m\u001b[38;5;124mWelcome\u001b[39m\u001b[38;5;124m\"\u001b[39m)\n",
      "\u001b[1;31mNameError\u001b[0m: name 'Print' is not defined"
     ]
    }
   ],
   "source": [
    "Print(\"Welcome\")"
   ]
  },
  {
   "cell_type": "markdown",
   "id": "36b84691",
   "metadata": {},
   "source": [
    "##### print() is predefined function in python  and it is case sensitive"
   ]
  },
  {
   "cell_type": "code",
   "execution_count": null,
   "id": "ec40d536",
   "metadata": {},
   "outputs": [],
   "source": [
    "print(\"Good \n",
    "Evening\")"
   ]
  },
  {
   "cell_type": "markdown",
   "id": "a399ff0e",
   "metadata": {},
   "source": [
    "###### To print text in multiple lines we use ''' ''' (triple quotes)"
   ]
  },
  {
   "cell_type": "code",
   "execution_count": null,
   "id": "90c780e8",
   "metadata": {},
   "outputs": [],
   "source": [
    "a* = 1"
   ]
  },
  {
   "cell_type": "code",
   "execution_count": null,
   "id": "11964b3b",
   "metadata": {},
   "outputs": [],
   "source": [
    "a%n = 10"
   ]
  },
  {
   "cell_type": "markdown",
   "id": "7bf5c2a1",
   "metadata": {},
   "source": [
    "##### Variable names should not contain any special characters like ^ % $ ! @ # ^ & * ( )"
   ]
  },
  {
   "cell_type": "code",
   "execution_count": null,
   "id": "deaea798",
   "metadata": {},
   "outputs": [],
   "source": [
    "10ten = 10"
   ]
  },
  {
   "cell_type": "markdown",
   "id": "16fac41d",
   "metadata": {},
   "source": [
    "##### Variable names can contain numbers but you can't start with numbers"
   ]
  },
  {
   "cell_type": "code",
   "execution_count": null,
   "id": "ea78bb80",
   "metadata": {},
   "outputs": [],
   "source": [
    "\"Day \" + 1"
   ]
  },
  {
   "cell_type": "markdown",
   "id": "69893888",
   "metadata": {},
   "source": [
    "##### We can't concatenate string and integer "
   ]
  },
  {
   "cell_type": "code",
   "execution_count": null,
   "id": "9c5e4c30",
   "metadata": {},
   "outputs": [],
   "source": [
    "print=2\n",
    "print(\"hi\")"
   ]
  },
  {
   "cell_type": "code",
   "execution_count": null,
   "id": "0962abcd",
   "metadata": {},
   "outputs": [],
   "source": [
    "del print"
   ]
  },
  {
   "cell_type": "markdown",
   "id": "79d3e044",
   "metadata": {},
   "source": [
    "##### we assigned print with integer and we also know that print() is predefined function as we assigned value to print , print() will not work"
   ]
  },
  {
   "cell_type": "code",
   "execution_count": null,
   "id": "9f8c5292",
   "metadata": {},
   "outputs": [],
   "source": [
    "a = int(input(\"Enter value of a \"))"
   ]
  },
  {
   "cell_type": "markdown",
   "id": "d9090b6b",
   "metadata": {},
   "source": [
    "##### It's no possible to take float value as input by using int it supports only integer input, to take float as a input we use float()"
   ]
  },
  {
   "cell_type": "markdown",
   "id": "8e481e28",
   "metadata": {},
   "source": [
    "## 2. Take input A and B and print their sum, mul, div, square of the nos."
   ]
  },
  {
   "cell_type": "code",
   "execution_count": 2,
   "id": "d6069b58",
   "metadata": {},
   "outputs": [
    {
     "name": "stdout",
     "output_type": "stream",
     "text": [
      "Enter value of A 20\n",
      "Enter value of B 10\n",
      "A + B = 30\n",
      "A * B = 200\n",
      "A / B = 2.0\n",
      "Square of A = 400\n",
      "Square of B = 100\n"
     ]
    }
   ],
   "source": [
    "A=int(input(\"Enter value of A \"))\n",
    "B=int(input(\"Enter value of B \"))\n",
    "#Addition\n",
    "print(f\"A + B = {A+B}\")\n",
    "#Multiplication\n",
    "print(f\"A * B = {A*B}\")\n",
    "#Division\n",
    "print(\"A / B =\",A/B)\n",
    "# Square of the nos\n",
    "print(\"Square of A =\",A**2)\n",
    "print(f\"Square of B = {B**2}\")"
   ]
  },
  {
   "cell_type": "markdown",
   "id": "4afb9f83",
   "metadata": {},
   "source": [
    "## 3. How many reserve keywords are there in python and why we should not use them as a variable name."
   ]
  },
  {
   "cell_type": "code",
   "execution_count": 3,
   "id": "1d5f09a6",
   "metadata": {},
   "outputs": [],
   "source": [
    "import keyword\n",
    "from platform import python_version"
   ]
  },
  {
   "cell_type": "code",
   "execution_count": 4,
   "id": "d40c81b6",
   "metadata": {},
   "outputs": [
    {
     "name": "stdout",
     "output_type": "stream",
     "text": [
      "There are total 36 reserve keywords are there in present working python version 3.9.12 and they are:\n",
      " ['False', 'None', 'True', '__peg_parser__', 'and', 'as', 'assert', 'async', 'await', 'break', 'class', 'continue', 'def', 'del', 'elif', 'else', 'except', 'finally', 'for', 'from', 'global', 'if', 'import', 'in', 'is', 'lambda', 'nonlocal', 'not', 'or', 'pass', 'raise', 'return', 'try', 'while', 'with', 'yield']\n"
     ]
    }
   ],
   "source": [
    "print(f\"There are total {len(keyword. kwlist)} reserve keywords are there in present working python version {python_version()} and they are:\\n {keyword.kwlist}\")"
   ]
  },
  {
   "cell_type": "markdown",
   "id": "adeaa2e3",
   "metadata": {},
   "source": [
    "#### We cannot use keywords as variable names. It's because keywords have predefined meanings."
   ]
  },
  {
   "cell_type": "markdown",
   "id": "b82712b3",
   "metadata": {},
   "source": [
    "### 4. Create email ids with the user inputs. in the following format - lastname.firstname@gmail.com"
   ]
  },
  {
   "cell_type": "code",
   "execution_count": 5,
   "id": "c9095ba9",
   "metadata": {},
   "outputs": [
    {
     "name": "stdout",
     "output_type": "stream",
     "text": [
      "Enter lastname varigonda\n",
      "Enter firstname vignu\n",
      "Email ID = varigonda.vignu@gmail.com\n"
     ]
    }
   ],
   "source": [
    "lastname=input(\"Enter lastname \")\n",
    "firstname=input(\"Enter firstname \")\n",
    "print(f\"Email ID = {lastname}.{firstname}@gmail.com\")"
   ]
  },
  {
   "cell_type": "markdown",
   "id": "437bd0a4",
   "metadata": {},
   "source": [
    "### 5. Try to print the following lines - \n",
    "  - Hi I'm Sunny\n",
    "  - My address is 22\\3 \n",
    "  - I earn 20$ daily."
   ]
  },
  {
   "cell_type": "code",
   "execution_count": 6,
   "id": "0a6d900a",
   "metadata": {},
   "outputs": [
    {
     "name": "stdout",
     "output_type": "stream",
     "text": [
      "Hi I'm Sunny\n",
      "My address is 22\\3\n",
      "I earn 20$ daily.\n"
     ]
    }
   ],
   "source": [
    "print(\"Hi I'm Sunny\")\n",
    "print(\"My address is 22\\\\3\")\n",
    "print(\"I earn 20$ daily.\")"
   ]
  },
  {
   "cell_type": "markdown",
   "id": "071d1256",
   "metadata": {},
   "source": [
    "### 6. Take user input (name, address, date of birth etc) to fill a form for your college and print their email IDs"
   ]
  },
  {
   "cell_type": "code",
   "execution_count": 7,
   "id": "4ff32bf5",
   "metadata": {},
   "outputs": [
    {
     "name": "stdout",
     "output_type": "stream",
     "text": [
      "Enter your name: nirmal vignu\n",
      "Enter your address: Tanuku\n",
      "Enter your date of birth: 21-03-2001\n",
      "Your email id is:nirmal.vignu21@gmail.com\n"
     ]
    }
   ],
   "source": [
    "name=input(\"Enter your name: \")\n",
    "address=input(\"Enter your address: \")\n",
    "date_of_birth=input(\"Enter your date of birth: \")\n",
    "email=name.replace(\" \",\".\")+date_of_birth[0:2]+\"@gmail.com\"\n",
    "print(f\"Your email id is:{email}\")"
   ]
  },
  {
   "cell_type": "markdown",
   "id": "f0331497",
   "metadata": {},
   "source": [
    "### 7. Convert the following - \n",
    "  - \"22.4\" into integer\n",
    "  - \"22\" into complex no.\n"
   ]
  },
  {
   "cell_type": "code",
   "execution_count": 9,
   "id": "0bd20fcb",
   "metadata": {},
   "outputs": [
    {
     "ename": "ValueError",
     "evalue": "invalid literal for int() with base 10: '22.4'",
     "output_type": "error",
     "traceback": [
      "\u001b[1;31m---------------------------------------------------------------------------\u001b[0m",
      "\u001b[1;31mValueError\u001b[0m                                Traceback (most recent call last)",
      "Input \u001b[1;32mIn [9]\u001b[0m, in \u001b[0;36m<cell line: 2>\u001b[1;34m()\u001b[0m\n\u001b[0;32m      1\u001b[0m n1\u001b[38;5;241m=\u001b[39m\u001b[38;5;124m\"\u001b[39m\u001b[38;5;124m22.4\u001b[39m\u001b[38;5;124m\"\u001b[39m\n\u001b[1;32m----> 2\u001b[0m \u001b[38;5;28mprint\u001b[39m(\u001b[38;5;124mf\u001b[39m\u001b[38;5;124m\"\u001b[39m\u001b[38;5;132;01m{\u001b[39;00mn1\u001b[38;5;132;01m}\u001b[39;00m\u001b[38;5;124m into integer = \u001b[39m\u001b[38;5;132;01m{\u001b[39;00m\u001b[38;5;28mint\u001b[39m(n1)\u001b[38;5;132;01m}\u001b[39;00m\u001b[38;5;124m\"\u001b[39m)\n",
      "\u001b[1;31mValueError\u001b[0m: invalid literal for int() with base 10: '22.4'"
     ]
    }
   ],
   "source": [
    "n1=\"22.4\"\n",
    "print(f\"{n1} into integer = {int(n1)}\")"
   ]
  },
  {
   "cell_type": "markdown",
   "id": "3750af3d",
   "metadata": {},
   "source": [
    "##### As we can see 22.4 is a float number we can't directly convert 22.4 to integer so we can convert it by using float() as we want into integer after converting to float value we can use int() to convert as an Integer\""
   ]
  },
  {
   "cell_type": "code",
   "execution_count": 10,
   "id": "d9481cd0",
   "metadata": {},
   "outputs": [
    {
     "name": "stdout",
     "output_type": "stream",
     "text": [
      "22.4 into integer = 22\n"
     ]
    }
   ],
   "source": [
    "\n",
    "print(f\"{n1} into integer = {int(float(n1))}\")"
   ]
  },
  {
   "cell_type": "code",
   "execution_count": 11,
   "id": "c57bc97e",
   "metadata": {},
   "outputs": [
    {
     "name": "stdout",
     "output_type": "stream",
     "text": [
      "22 into complex = (22+0j)\n"
     ]
    }
   ],
   "source": [
    "n2=\"22\"\n",
    "print(f\"{n2} into complex = {complex(n2)}\")\n"
   ]
  },
  {
   "cell_type": "code",
   "execution_count": null,
   "id": "54a0dea6",
   "metadata": {},
   "outputs": [],
   "source": []
  }
 ],
 "metadata": {
  "kernelspec": {
   "display_name": "Python 3 (ipykernel)",
   "language": "python",
   "name": "python3"
  },
  "language_info": {
   "codemirror_mode": {
    "name": "ipython",
    "version": 3
   },
   "file_extension": ".py",
   "mimetype": "text/x-python",
   "name": "python",
   "nbconvert_exporter": "python",
   "pygments_lexer": "ipython3",
   "version": "3.9.12"
  }
 },
 "nbformat": 4,
 "nbformat_minor": 5
}
