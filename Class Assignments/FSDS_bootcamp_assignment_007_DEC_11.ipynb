{
 "cells": [
  {
   "cell_type": "markdown",
   "id": "c82be1b8",
   "metadata": {},
   "source": [
    "1. Write a class called BankAccount that has the following:\n",
    "        • A field called name that stores the name of the account holder.\n",
    "        • A field called amount that stores the amount of money in the account.\n",
    "        • A field called interest_rate that stores the account’s interest rate (as a percentage).\n",
    "        • A constructor that just sets the values of the three fields above.\n",
    "        • A method called apply_interest() that takes no arguments and applies the interest to the\n",
    "        account. It should just modify the amount field and not return anything. For instance, if the\n",
    "        account has $1000 in it and the interest rate is 3%, then the amount variable should be changed\n",
    "        to $1030 ($1000 + 3% interest).\n",
    "        Then test the class, by creating a new BankAccount object for a user named Juan De Hattatime who\n",
    "        has $1000 at 3% interest. Then do the following:\n",
    "        • Use the apply_interest() method to apply the interest to the account.\n",
    "        • Print out how much money is now in the account after applying the interest.\n",
    "        • Change the account’s interest rate to 2%.\n",
    "        • Use the apply_interest() method to apply the interest to the account again.\n",
    "        • Print out how much money is now in the account after applying the interest again."
   ]
  },
  {
   "cell_type": "code",
   "execution_count": 7,
   "id": "fe9e72c7",
   "metadata": {},
   "outputs": [
    {
     "name": "stdout",
     "output_type": "stream",
     "text": [
      "Enter user name : Juan De Hattatime\n",
      "Enter amount : 1000\n",
      "Enter interest : 3\n",
      "Name:  Juan De Hattatime Amount:  1000.0 Interest Rate:  3.0\n",
      "Amount after applying interest:  1030.0\n",
      "Amount after applying interest of 2 :  1050.6\n"
     ]
    }
   ],
   "source": [
    "class BankAccount:\n",
    "    def __init__(self,name,amount,interest_rate):\n",
    "        self.name = name\n",
    "        self.amount = amount\n",
    "        self.interest_rate = interest_rate\n",
    "    def apply_interest(self):\n",
    "        self.amount=self.amount+(self.interest_rate/100)*self.amount\n",
    "        return self.amount\n",
    "name=input('Enter user name : ')    \n",
    "amount=float(input('Enter amount : '))   \n",
    "interest=float(input('Enter interest : '))  \n",
    "bankacc=BankAccount(name,amount,interest)\n",
    "print(\"Name: \",bankacc.name,\"Amount: \",bankacc.amount,\"Interest Rate: \",bankacc.interest_rate)\n",
    "print(\"Amount after applying interest: \",bankacc.apply_interest())\n",
    "bankacc.interest_rate=2\n",
    "\n",
    "print(f\"Amount after applying interest of {bankacc.interest_rate} : \",bankacc.apply_interest())"
   ]
  },
  {
   "cell_type": "markdown",
   "id": "6f20fbe5",
   "metadata": {},
   "source": [
    "2. Write a class called Item that represents an item for sale. It should have the following:\n",
    "\n",
    "      • Fields representing the name and price of the item\n",
    "      \n",
    "      • A constructor that sets those fields,\n",
    "      \n",
    "      • A _ _ str _ _() method that returns a string containing the item name and price, with the price\n",
    "      formatted to exactly 2 decimal places\n",
    "      Test the class by creating a new item object and printing it out"
   ]
  },
  {
   "cell_type": "code",
   "execution_count": 30,
   "id": "1915689d",
   "metadata": {},
   "outputs": [
    {
     "data": {
      "text/plain": [
       "'Item : Apple,  price : 45.79'"
      ]
     },
     "execution_count": 30,
     "metadata": {},
     "output_type": "execute_result"
    }
   ],
   "source": [
    "import math\n",
    "class Item:\n",
    "    def __init__(self,name,price):\n",
    "        self.name = name\n",
    "        self.price = price\n",
    "    def __str__(self):\n",
    "        return \"Item : \"+self.name+\",  price : \"+str(round(self.price,2))\n",
    "item=Item(\"Apple\",45.789)\n",
    "item.__str__()"
   ]
  },
  {
   "cell_type": "markdown",
   "id": "c24f6837",
   "metadata": {},
   "source": [
    "3. Write a class called ShoppingCart that might be used in an online store. It should have the following:\n",
    "\n",
    "      • A list of Item objects that represents the items in the shopping cart\n",
    "      \n",
    "      • A constructor that creates an empty list of items (the constructor should take no arguments ex\u0002cept self)\n",
    "      \n",
    "      • A method called add() that takes a name and a price and adds an Item object with that name\n",
    "      and price to the shopping cart\n",
    "      \n",
    "      • A method called total() that takes no arguments and returns the total cost of the items in the\n",
    "      cart\n",
    "      34\n",
    "      \n",
    "      • A method called remove_items() that takes an item name (a string) and removes any Item\n",
    "      objects with that name from the shopping cart. It shouldn’t return anything.\n",
    "      \n",
    "      • A _ _str_ _() method that returns a string containing info on all the items in the shopping cart\n",
    "      Then test out the shopping cart as follows: \n",
    "      \n",
    "      (1) create a shopping cart;\n",
    "      \n",
    "      (2) add several items to it;\n",
    "      \n",
    "      (3) print the cart’s total cost (using the total() method);\n",
    "      \n",
    "      (4) remove one of the items types;\n",
    "      \n",
    "      (5) print out the cart"
   ]
  },
  {
   "cell_type": "code",
   "execution_count": 39,
   "id": "a219f21e",
   "metadata": {},
   "outputs": [
    {
     "name": "stdout",
     "output_type": "stream",
     "text": [
      "My cart: \n",
      " item1 10\n",
      "item2 20\n",
      "item3 30\n",
      "item4 40\n",
      "\n",
      "Total cart cost is =  100\n",
      "item2 20\n",
      "item3 30\n",
      "item4 40\n",
      "\n"
     ]
    }
   ],
   "source": [
    "class Item:\n",
    "    def __init__(self, name,price):\n",
    "        self.name = name\n",
    "        self.price = price\n",
    "\n",
    "class ShoppingCart:\n",
    "    def __init__(self):\n",
    "        self.items = []\n",
    "    def add(self,name,price):\n",
    "        self.items.append(Item(name,price))\n",
    "    def total(self):\n",
    "        total=0\n",
    "        for item in self.items:\n",
    "            total+=item.price\n",
    "        return total\n",
    "    def remove(self,name):\n",
    "        for i in self.items:\n",
    "            if i.name == name:\n",
    "                self.items.remove(i)\n",
    "    def __str__(self):\n",
    "        s=\"\"\n",
    "        for item in self.items:\n",
    "            s+=item.name+\" \"+str(item.price)\n",
    "            s+='\\n'\n",
    "        return s\n",
    "s=ShoppingCart()\n",
    "s.add('item1',10)\n",
    "s.add('item2',20)\n",
    "s.add('item3',30)\n",
    "s.add('item4',40)\n",
    "print(\"My cart: \\n\",s.__str__())\n",
    "print(\"Total cart cost is = \",s.total())\n",
    "s.remove('item1')\n",
    "print(s.__str__())"
   ]
  },
  {
   "cell_type": "markdown",
   "id": "001043c8",
   "metadata": {},
   "source": [
    "4. Write a class called RestaurantCheck. It should have the following:\n",
    "    \n",
    "      • Fields called check_number, sales_tax_percent, subtotal, table_number, and server_name\n",
    "      representing an identification for the check, the bill without tax added, the sales tax percentage,\n",
    "      the table number, and the name of the server.\n",
    "      \n",
    "      • A constructor that sets the values of all four fields\n",
    "      \n",
    "      • A method called calculate_total that takes no arguments (besides self) and returns the total\n",
    "      bill including sales tax.\n",
    "      \n",
    "      • A method called print_check that writes to a file called check###.txt, where ### is the check\n",
    "      number and writes information about the check to that file, formatted like below:\n",
    "      \n",
    "      Check Number: 443\n",
    "      \n",
    "      Sales tax: 6.0%\n",
    "      \n",
    "      Subtotal: $23.14\n",
    "      \n",
    "      Total: $24.53\n",
    "      \n",
    "      Table Number: 17\n",
    "      \n",
    "      Server: Sonic the Hedgehog\n",
    "      \n",
    "      Test the class by creating a RestaurantCheck object and calling the print_check() method"
   ]
  },
  {
   "cell_type": "code",
   "execution_count": 85,
   "id": "ef17fa60",
   "metadata": {},
   "outputs": [
    {
     "name": "stdout",
     "output_type": "stream",
     "text": [
      "Check number: 443\n",
      "Sales tax: 6.0%\n",
      "Subtotal: $23.14\n",
      "Total: $24.53\n",
      "Table Number: 17\n",
      "Server: Sonic the Hedgehog\n"
     ]
    }
   ],
   "source": [
    "class RestaurantCheck:\n",
    "    def __init__(self,check_number,sales_tax_percent,subtotal,table_number,server_name):\n",
    "        self.check_number = check_number\n",
    "        self.sales_tax_percent = sales_tax_percent\n",
    "        self.subtotal = subtotal\n",
    "        self.table_number = table_number\n",
    "        self.server_name = server_name\n",
    "    def calculate_total(self):\n",
    "        total=self.subtotal+(self.sales_tax_percent/100)*self.subtotal\n",
    "        return total\n",
    "    def print_total(self):\n",
    "        s=\"\"\n",
    "        fname=\"check\"+str(self.check_number)+\".txt\"\n",
    "        s+=\"Check number: \"+str(self.check_number)+\"\\nSales tax: \"+str(self.sales_tax_percent)+\"%\\nSubtotal: $\"+str(self.subtotal)\n",
    "        s+=\"\\nTotal: $\"+str(round((self.calculate_total()),2))+\"\\nTable Number: \"+str(self.table_number)+\"\\nServer: \"+str(self.server_name)\n",
    "        with open(fname,'w') as f: \n",
    "            f.write(s)\n",
    "            f.close()\n",
    "        with open(fname,'r') as f: \n",
    "            print(f.read())\n",
    "            f.close()\n",
    "\n",
    "r=RestaurantCheck(443,6.0,23.14,17,\"Sonic the Hedgehog\")\n",
    "r.print_total()"
   ]
  },
  {
   "cell_type": "markdown",
   "id": "3adc05d1",
   "metadata": {},
   "source": [
    "5. Write a class called Ticket that has the following:\n",
    "\n",
    "      • A field cost for the price of the ticket and a string field time for the start time of the event\n",
    "      (assume times are in 24-hour format, like '18:35')\n",
    "      \n",
    "      • A constructor that sets those variables\n",
    "      \n",
    "      • A _ _str_ _() method that returns a string of the form Ticket( < cost >, < time >), where\n",
    "      < cost > and < time > are replaced with the values of the cost and time fields.\n",
    "          \n",
    "      • A method called is_evening_time() that returns True or False, depending on whether the\n",
    "      time falls in the range from 18:00 to 23:59.\n",
    "          \n",
    "      • A method called bulk_discount() that takes an integer n and returns the discount for buying n\n",
    "      tickets. There should be a 10% discount for buying 5 to 9 tickets, and a 20% discount for buying\n",
    "      10 or more. Otherwise, there is no discount. Return these percentages as integers.\n",
    "      Test the class by creating a Ticket item, printing it, calling the is_evening_time() method, and\n",
    "      calling the bulk_discount() method"
   ]
  },
  {
   "cell_type": "code",
   "execution_count": 84,
   "id": "84233647",
   "metadata": {},
   "outputs": [
    {
     "name": "stdout",
     "output_type": "stream",
     "text": [
      "Ticket(100, 18:34)\n",
      "Evening time :  True\n",
      "No of tickets = 7\n",
      "Discount:  10 %\n"
     ]
    }
   ],
   "source": [
    "from datetime import datetime\n",
    "class Ticket:\n",
    "    def __init__(self,price,start_time):\n",
    "        self.price = price\n",
    "        self.start_time = start_time\n",
    "    def __str__(self):\n",
    "        return f'Ticket({self.price}, {self.start_time})'\n",
    "    def is_evening_time(self):\n",
    "        t1=datetime.strptime('18:00', \"%H:%M\").time()\n",
    "        t2=datetime.strptime('23:59', \"%H:%M\").time()\n",
    "        t_object = datetime.strptime(self.start_time, \"%H:%M\").time()\n",
    "        if t1<=t_object<=t2:\n",
    "            return True\n",
    "        else:\n",
    "            return False\n",
    "    def bulk_discount(self,n):\n",
    "        discount=0\n",
    "        if n>=5 or n<=9:\n",
    "            discount=10\n",
    "        elif n>=10:\n",
    "            discount=20\n",
    "        return discount\n",
    "        \n",
    "\n",
    "t=Ticket(100,'18:34')\n",
    "print(t.__str__())\n",
    "print(\"Evening time : \",t.is_evening_time())\n",
    "n=int(input(\"No of tickets = \"))\n",
    "print(\"Discount: \",t.bulk_discount(7),\"%\")"
   ]
  },
  {
   "cell_type": "code",
   "execution_count": null,
   "id": "dfcb9251",
   "metadata": {},
   "outputs": [],
   "source": []
  }
 ],
 "metadata": {
  "kernelspec": {
   "display_name": "Python 3 (ipykernel)",
   "language": "python",
   "name": "python3"
  },
  "language_info": {
   "codemirror_mode": {
    "name": "ipython",
    "version": 3
   },
   "file_extension": ".py",
   "mimetype": "text/x-python",
   "name": "python",
   "nbconvert_exporter": "python",
   "pygments_lexer": "ipython3",
   "version": "3.9.12"
  }
 },
 "nbformat": 4,
 "nbformat_minor": 5
}
