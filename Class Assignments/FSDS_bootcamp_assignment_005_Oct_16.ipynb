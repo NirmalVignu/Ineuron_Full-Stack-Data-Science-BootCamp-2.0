{
 "cells": [
  {
   "cell_type": "markdown",
   "metadata": {
    "id": "dkGbTD94s6CD"
   },
   "source": [
    "### Name: Varigonda Sai Nirmal Vignu\n",
    "### Email: varigondanirmal1@gmail.com"
   ]
  },
  {
   "cell_type": "markdown",
   "metadata": {
    "id": "n3FuI-mutNl6"
   },
   "source": [
    "# List, Tuple and Sets"
   ]
  },
  {
   "cell_type": "markdown",
   "metadata": {
    "id": "hZcGNSR2y9zW"
   },
   "source": [
    "#### 1. On amazon website we have the following available items - \n",
    "\n",
    "```python\n",
    "amazon_website = [(\"watch\", 5000), (\"phone\", 10000), (\"laptop\", 50000), (\"shirt\", 1000)]\n",
    "```\n",
    "Take the user input N no. of times and find out the total cost to be paid?\n",
    "\n",
    "OR\n",
    "\n",
    "You can ask the user quntity or the count of item?\n",
    "\n",
    "if the item is not present in the amazon website then print that item as out of stock and do add it total\n",
    "\n",
    "\n",
    "HINT: while, for loop.. indexing"
   ]
  },
  {
   "cell_type": "markdown",
   "metadata": {
    "id": "FQrKC2gzzsUm"
   },
   "source": [
    "#### 2. What will be the output of the following code snippet?\n",
    "\n",
    "```\n",
    "arr = [1, 2, 3, 4, 5, 6]\n",
    "for i in range(1, 6):\n",
    "    arr[i - 1] = arr[i]\n",
    "for i in range(0, 6): \n",
    "    print(arr[i], end = \" \")\n",
    "```"
   ]
  },
  {
   "cell_type": "markdown",
   "metadata": {
    "id": "nL_DZJFS0ZZF"
   },
   "source": [
    "#### 3. Write a Python program to find the repeated items of a tuple."
   ]
  },
  {
   "cell_type": "markdown",
   "metadata": {
    "id": "ne8WpLZZ1GSm"
   },
   "source": [
    "### 4. Replace last value of tuples in a list with 500. Try using list comprehension\n",
    "\n",
    "Example -: \n",
    "```\n",
    "Input -:\n",
    "\n",
    "[(10, 20, 40), (40, 50, 60), (70, 80, 90)]\n",
    "\n",
    "Output -:\n",
    "[(10, 20, 500), (40, 50, 500), (70, 80, 500)]\n",
    "\n",
    "\n",
    "```\n"
   ]
  },
  {
   "cell_type": "markdown",
   "metadata": {
    "id": "YpvH9Di21z-O"
   },
   "source": [
    "## Answers"
   ]
  },
  {
   "cell_type": "markdown",
   "metadata": {
    "id": "mbx4uz9Y2bHk"
   },
   "source": [
    "### Answer-1"
   ]
  },
  {
   "cell_type": "code",
   "execution_count": 7,
   "metadata": {},
   "outputs": [
    {
     "name": "stdout",
     "output_type": "stream",
     "text": [
      "Enter count of items to buy = 4\n",
      "Enter item to buy = watch\n",
      "Enter item to buy = phone\n",
      "Enter item to buy = laptop\n",
      "Enter item to buy = tv\n",
      "tv is not in stock\n",
      "Purchased items are = ['watch', 'phone', 'laptop']\n",
      "Total price of purchased item is = 65000\n"
     ]
    }
   ],
   "source": [
    "# given list\n",
    "amazon_website = [(\"watch\", 5000), (\"phone\", 10000), (\"laptop\", 50000), (\"shirt\", 1000)]\n",
    "n=int(input(\"Enter count of items to buy = \"))\n",
    "price=0\n",
    "items=list()\n",
    "while n!=0:\n",
    "    item=input(\"Enter item to buy = \")\n",
    "    for i in amazon_website:\n",
    "        if item in i[0]:\n",
    "            price+=i[1]\n",
    "            items.append(item)\n",
    "            break\n",
    "    else:\n",
    "        print(f\"{item} is not in stock\")\n",
    "    n-=1\n",
    "            \n",
    "print(f\"Purchased items are = {items}\")\n",
    "print(f\"Total price of purchased item is = {price}\")            "
   ]
  },
  {
   "cell_type": "markdown",
   "metadata": {},
   "source": [
    "### Another method"
   ]
  },
  {
   "cell_type": "code",
   "execution_count": 8,
   "metadata": {},
   "outputs": [
    {
     "name": "stdout",
     "output_type": "stream",
     "text": [
      "Enter item to buy = watch\n",
      "Want to buy anything press 1 to continue / press 0 to checkout = 1\n",
      "Enter item to buy = phone\n",
      "Want to buy anything press 1 to continue / press 0 to checkout = 1\n",
      "Enter item to buy = laptop\n",
      "Want to buy anything press 1 to continue / press 0 to checkout = 1\n",
      "Enter item to buy = shirt\n",
      "Want to buy anything press 1 to continue / press 0 to checkout = 1\n",
      "Enter item to buy = TV\n",
      "TV is not in stock\n",
      "Want to buy anything press 1 to continue / press 0 to checkout = 0\n",
      "Purchased items are = ['watch', 'phone', 'laptop', 'shirt']\n",
      "Total price of purchased item is = 66000\n"
     ]
    }
   ],
   "source": [
    "# given list\n",
    "amazon_website = [(\"watch\", 5000), (\"phone\", 10000), (\"laptop\", 50000), (\"shirt\", 1000)]\n",
    "\n",
    "price=0\n",
    "items=list()\n",
    "while True:\n",
    "    item=input(\"Enter item to buy = \")\n",
    "    for i in amazon_website:\n",
    "        if item in i[0]:\n",
    "            price+=i[1]\n",
    "            items.append(item)\n",
    "            break\n",
    "    else:\n",
    "        print(f\"{item} is not in stock\")\n",
    "    condition=int(input(\"Want to buy anything press 1 to continue / press 0 to checkout = \"))\n",
    "    if condition==0:\n",
    "        break\n",
    "            \n",
    "print(f\"Purchased items are = {items}\")\n",
    "print(f\"Total price of purchased item is = {price}\")            "
   ]
  },
  {
   "cell_type": "markdown",
   "metadata": {},
   "source": [
    "### Answer-2"
   ]
  },
  {
   "cell_type": "markdown",
   "metadata": {},
   "source": [
    "```python\n",
    "arr = [1, 2, 3, 4, 5, 6]\n",
    "for i in range(1, 6):\n",
    "    arr[i - 1] = arr[i]\n",
    "for i in range(0, 6): \n",
    "    print(arr[i], end = \" \")\n",
    "```\n",
    "Answer - 2 3 4 5 6 6\n",
    "In python indexing starts from 0 and the given list is [1, 2, 3, 4, 5, 6] which of lenght 6 so the indices are range from 0 to 5, In the first for loop range is taken as (1,6) that is from second element to last element and the statement inside the loop is arr[i-1] = arr[i] which means we are assigning present value to previous index and the last element is remain same, In the second loop we are taken range from (0,6) which is from first to last element and printing them \n",
    "\n",
    "| Index | previous value | after first for loop |\n",
    "| --- | --- | --- |\n",
    "| 0 | 1 | 2|\n",
    "| 1 | 2 | 3|\n",
    "| 2 | 3 | 4|\n",
    "| 3 | 4 | 5|\n",
    "| 4 | 5 | 6|\n",
    "| 5 | 6 | 6|\n",
    "\n"
   ]
  },
  {
   "cell_type": "code",
   "execution_count": 11,
   "metadata": {},
   "outputs": [
    {
     "name": "stdout",
     "output_type": "stream",
     "text": [
      "2 3 4 5 6 6 "
     ]
    }
   ],
   "source": [
    "arr = [1, 2, 3, 4, 5, 6]\n",
    "for i in range(1, 6):\n",
    "    arr[i - 1] = arr[i]\n",
    "for i in range(0, 6): \n",
    "    print(arr[i], end = \" \")"
   ]
  },
  {
   "cell_type": "markdown",
   "metadata": {},
   "source": [
    "### Answer-3"
   ]
  },
  {
   "cell_type": "code",
   "execution_count": 17,
   "metadata": {},
   "outputs": [
    {
     "name": "stdout",
     "output_type": "stream",
     "text": [
      "1 2 3 4 1 1 1 4 5 6 6 5 \n",
      "Given tuple =  (1, 2, 3, 4, 1, 1, 1, 4, 5, 6, 6, 5)\n",
      "Repeated elements of tuple are =  (1, 4, 5, 6)\n"
     ]
    }
   ],
   "source": [
    "tuple1=tuple(map(int,input().split()))\n",
    "print(\"Given tuple = \",tuple1)\n",
    "repeated=list()\n",
    "for i in tuple1:\n",
    "    if i not in repeated and tuple1.count(i)>1:\n",
    "        repeated.append(i)\n",
    "print(\"Repeated elements of tuple are = \",tuple(repeated))\n",
    "        "
   ]
  },
  {
   "cell_type": "markdown",
   "metadata": {},
   "source": [
    "### Answer-4"
   ]
  },
  {
   "cell_type": "code",
   "execution_count": 34,
   "metadata": {},
   "outputs": [
    {
     "name": "stdout",
     "output_type": "stream",
     "text": [
      "Given list of tuple :  [(10, 20, 40), (40, 50, 60), (70, 80, 90)]\n",
      "\n",
      "New list of tuple after replacing last value of every tuple with 500 is = \n",
      "[(10, 20, 500), (40, 50, 500), (70, 80, 500)]\n"
     ]
    }
   ],
   "source": [
    "tuple_list=[(10, 20, 40), (40, 50, 60), (70, 80, 90)]\n",
    "print(\"Given list of tuple : \",tuple_list)\n",
    "new_tup_list=[t[:-1] + (500,) for t in tuple_list]\n",
    "print(\"\\nNew list of tuple after replacing last value of every tuple with 500 is = \")\n",
    "print(new_tup_list)"
   ]
  }
 ],
 "metadata": {
  "colab": {
   "collapsed_sections": [],
   "provenance": []
  },
  "kernelspec": {
   "display_name": "Python 3 (ipykernel)",
   "language": "python",
   "name": "python3"
  },
  "language_info": {
   "codemirror_mode": {
    "name": "ipython",
    "version": 3
   },
   "file_extension": ".py",
   "mimetype": "text/x-python",
   "name": "python",
   "nbconvert_exporter": "python",
   "pygments_lexer": "ipython3",
   "version": "3.9.12"
  }
 },
 "nbformat": 4,
 "nbformat_minor": 1
}
