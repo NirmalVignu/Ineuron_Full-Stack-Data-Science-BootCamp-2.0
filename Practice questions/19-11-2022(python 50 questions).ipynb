{
 "cells": [
  {
   "cell_type": "markdown",
   "id": "c094e049",
   "metadata": {},
   "source": [
    "1. Print the first 5 positive integers in ascending order with one number in each line"
   ]
  },
  {
   "cell_type": "code",
   "execution_count": 1,
   "id": "0d1aef66",
   "metadata": {},
   "outputs": [
    {
     "name": "stdout",
     "output_type": "stream",
     "text": [
      "1\n",
      "2\n",
      "3\n",
      "4\n",
      "5\n"
     ]
    }
   ],
   "source": [
    "for i in range(1,6):\n",
    "    print(i)"
   ]
  },
  {
   "attachments": {
    "image.png": {
     "image/png": "[encoded data removed]"
    }
   },
   "cell_type": "markdown",
   "id": "47af0edd",
   "metadata": {},
   "source": [
    "2. Print the following pattern\n",
    "\n",
    "![image.png](attachment:image.png)\n",
    "\n",
    "There are no spaces between consecutive stars. There are no spaces \n",
    "at the end of each line."
   ]
  },
  {
   "cell_type": "code",
   "execution_count": 2,
   "id": "d3e34409",
   "metadata": {},
   "outputs": [
    {
     "name": "stdout",
     "output_type": "stream",
     "text": [
      "5\n",
      "*\n",
      "**\n",
      "***\n",
      "****\n",
      "*****\n"
     ]
    }
   ],
   "source": [
    "n=int(input())\n",
    "for i in range(1,n+1):\n",
    "    print('*'*i)"
   ]
  },
  {
   "cell_type": "markdown",
   "id": "0d8681a4",
   "metadata": {},
   "source": [
    "3. Accept an integer as input and print its square as output."
   ]
  },
  {
   "cell_type": "code",
   "execution_count": 3,
   "id": "b359256e",
   "metadata": {},
   "outputs": [
    {
     "name": "stdout",
     "output_type": "stream",
     "text": [
      "4\n",
      "Square of 4 is 16\n"
     ]
    }
   ],
   "source": [
    "n=int(input())\n",
    "print(f\"Square of {n} is {n*n}\")"
   ]
  },
  {
   "cell_type": "markdown",
   "id": "68c1bd46",
   "metadata": {},
   "source": [
    "4.Accept two integers as input and print their sum as output."
   ]
  },
  {
   "cell_type": "code",
   "execution_count": 4,
   "id": "05d0b371",
   "metadata": {},
   "outputs": [
    {
     "name": "stdout",
     "output_type": "stream",
     "text": [
      "2\n",
      "3\n",
      "Sum of 2 and 3 is 5\n"
     ]
    }
   ],
   "source": [
    "n1=int(input())\n",
    "n2=int(input())\n",
    "print(f\"Sum of {n1} and {n2} is {n1+n2}\")"
   ]
  },
  {
   "cell_type": "markdown",
   "id": "fe7d3cf3",
   "metadata": {},
   "source": [
    "5. Accept two words as input and print the two words after adding a space between them"
   ]
  },
  {
   "cell_type": "code",
   "execution_count": 5,
   "id": "79c42f85",
   "metadata": {},
   "outputs": [
    {
     "name": "stdout",
     "output_type": "stream",
     "text": [
      "ineuron\n",
      "fsds\n",
      "ineuron fsds\n"
     ]
    }
   ],
   "source": [
    "s1=input()\n",
    "s2=input()\n",
    "print(s1+\" \"+s2)"
   ]
  },
  {
   "cell_type": "markdown",
   "id": "3ec29e0a",
   "metadata": {},
   "source": [
    "6. Accept the registration number of a vehicle as input and print its state-code as output."
   ]
  },
  {
   "cell_type": "code",
   "execution_count": 6,
   "id": "2851b40a",
   "metadata": {},
   "outputs": [
    {
     "name": "stdout",
     "output_type": "stream",
     "text": [
      "AP 37 BH 1234\n",
      "State Code of AP 37 BH 1234 is AP\n"
     ]
    }
   ],
   "source": [
    "reg_number=input()\n",
    "print(f\"State Code of {reg_number} is {reg_number[:2]}\")"
   ]
  },
  {
   "cell_type": "markdown",
   "id": "d3d4d7f3",
   "metadata": {},
   "source": [
    "7.Accept a five-digit number as input and print the sum of its digits as  output."
   ]
  },
  {
   "cell_type": "code",
   "execution_count": 16,
   "id": "904dc226",
   "metadata": {},
   "outputs": [
    {
     "name": "stdout",
     "output_type": "stream",
     "text": [
      "Enter a 5 digit number = 12345\n",
      "Sum of digits of 12345 is 15\n"
     ]
    }
   ],
   "source": [
    "n=int(input(\"Enter a 5 digit number = \"))\n",
    "print(f\"Sum of digits of {n} is {sum(list(map(int,list(str(n)))))}\")"
   ]
  },
  {
   "cell_type": "code",
   "execution_count": 18,
   "id": "c141ee15",
   "metadata": {},
   "outputs": [
    {
     "name": "stdout",
     "output_type": "stream",
     "text": [
      "Enter a 5 digit number = 23456\n",
      "20\n"
     ]
    }
   ],
   "source": [
    "n=int(input(\"Enter a 5 digit number = \"))\n",
    "s=0\n",
    "while n!=0:\n",
    "    s+=n%10\n",
    "    n=n//10\n",
    "print(s)"
   ]
  },
  {
   "cell_type": "markdown",
   "id": "c3ee8f91",
   "metadata": {},
   "source": [
    "8.Accept five words as input and print the sentence formed by these words after adding a space between consecutive words and a full stop at the end."
   ]
  },
  {
   "cell_type": "code",
   "execution_count": 23,
   "id": "68151383",
   "metadata": {},
   "outputs": [
    {
     "name": "stdout",
     "output_type": "stream",
     "text": [
      "Enter five words = hi hello how are you\n",
      "hi hello how are you.\n"
     ]
    }
   ],
   "source": [
    "s=list(map(str,input(\"Enter five words = \").split()))\n",
    "print(\" \".join(s)+\".\")"
   ]
  },
  {
   "cell_type": "markdown",
   "id": "c944257d",
   "metadata": {},
   "source": [
    "9.Accept the date in DD-MM-YYYY format as input and print the year as output."
   ]
  },
  {
   "cell_type": "code",
   "execution_count": 37,
   "id": "0f6461d9",
   "metadata": {},
   "outputs": [
    {
     "name": "stdout",
     "output_type": "stream",
     "text": [
      "Enter the date in DD-MM-YYYY format = 21-03-2001\n",
      "year = 2001\n"
     ]
    }
   ],
   "source": [
    "date=input(\"Enter the date in DD-MM-YYYY format = \")\n",
    "#print(f\"Year = {date[-1:-5:-1][::-1]}\")\n",
    "print(f\"year = {date[-4:]}\")"
   ]
  },
  {
   "cell_type": "markdown",
   "id": "73ee6d00",
   "metadata": {},
   "source": [
    "10.Accept a sequence of five single digit numbers separated by commas as input. Print the product of all five numbers."
   ]
  },
  {
   "cell_type": "code",
   "execution_count": 39,
   "id": "f90f1fca",
   "metadata": {},
   "outputs": [
    {
     "name": "stdout",
     "output_type": "stream",
     "text": [
      "Enter sequence of five single digit numbers separated by commas =  1,2,3,4,5\n",
      "The product of all five numbers 1,2,3,4,5 is = 120\n"
     ]
    }
   ],
   "source": [
    "from functools import reduce\n",
    "numbers=input(\"Enter sequence of five single digit numbers separated by commas =  \")\n",
    "nums=list(map(int,numbers.split(\",\")))\n",
    "print(f\"The product of all five numbers {numbers} is = {reduce(lambda x,y:x*y,nums)}\")"
   ]
  },
  {
   "cell_type": "markdown",
   "id": "c49f3044",
   "metadata": {},
   "source": [
    "11. Accept two positive integers x and y as input. Print the number of digits in x^y"
   ]
  },
  {
   "cell_type": "code",
   "execution_count": 51,
   "id": "578357d2",
   "metadata": {},
   "outputs": [
    {
     "name": "stdout",
     "output_type": "stream",
     "text": [
      "Enter a positive number = 4\n",
      "Enter a positive number = 2\n",
      "number of digits in 4**2 is 2\n"
     ]
    }
   ],
   "source": [
    "x=int(input(\"Enter a positive number = \"))\n",
    "y=int(input(\"Enter a positive number = \"))\n",
    "print(f\"number of digits in {str(x)+'**'+str(y)} is {len(str(x**y))}\")"
   ]
  },
  {
   "cell_type": "markdown",
   "id": "d9506f02",
   "metadata": {},
   "source": [
    "12. Accept a string as input. If the input string is of odd length, then continue with it. If the input string is of even \n",
    "length, make the string of odd length as below:\n",
    "\n",
    "• If the last character is a period (.), then remove it \n",
    "\n",
    "• If the last character is not a period, then add a period (.) to the end of the string\n",
    "\n",
    "Call this string of odd length word. Select a substring made up of three consecutive characters from word such that there are an equal number of characters to the left and right of this substring. \n",
    "\n",
    "Print this substring as output. You can assume that all input strings will be in lower case and will have a length of at least four"
   ]
  },
  {
   "cell_type": "code",
   "execution_count": 75,
   "id": "8a64679e",
   "metadata": {},
   "outputs": [
    {
     "name": "stdout",
     "output_type": "stream",
     "text": [
      "Enter a string = hello\n",
      "hello\n",
      "ell\n"
     ]
    }
   ],
   "source": [
    "s=input(\"Enter a string = \")\n",
    "if len(s)%2==0:\n",
    "    if s[-1]=='.':\n",
    "        s=s[:-1]\n",
    "    else:\n",
    "        s+='.'\n",
    "print(s)\n",
    "print(s[len(s)//2-1]+s[len(s)//2]+s[len(s)//2+1])\n",
    "        "
   ]
  },
  {
   "cell_type": "markdown",
   "id": "fb8c288e",
   "metadata": {},
   "source": [
    "13. Accept three positive integers as input and check if they form the sides of a right triangle. Print YES if they form one, and NO is they do not. The input will have three lines, with one integer on each line.\n",
    "\n",
    "The output should be a single line containing one of these two \n",
    "strings: YES or NO."
   ]
  },
  {
   "cell_type": "code",
   "execution_count": 62,
   "id": "69e296c0",
   "metadata": {},
   "outputs": [
    {
     "name": "stdout",
     "output_type": "stream",
     "text": [
      "Enter value of sides of triangle: 5\n",
      "Enter value of sides of triangle: 3\n",
      "Enter value of sides of triangle: 4\n",
      "YES\n"
     ]
    }
   ],
   "source": [
    "l=[]\n",
    "for i in range(3):\n",
    "    l.append(int(input(\"Enter value of sides of triangle: \")))\n",
    "l.sort()\n",
    "if(l[0]**2+l[1]**2==l[2]**2):\n",
    "    print(\"YES\")\n",
    "else:\n",
    "    print(\"NO\")\n",
    "    "
   ]
  },
  {
   "cell_type": "markdown",
   "id": "5c28341b",
   "metadata": {},
   "source": [
    "14. EvenOdd is a tech startup. Each employee at the startup is given an employee id which is a unique positive integer. On one warm Sunday evening, five employees of the company come together for a meeting and sit at a circular table:\n",
    "\n",
    "The employees follow a strange convention. They will continue the meeting only if the following condition is satisfied.\n",
    "\n",
    "The sum of the employee-ids of every pair of adjacent employees at the table must be an even number.\n",
    "\n",
    "They are so lazy that they won’t move around to satisfy the above condition, If the current seating plan doesn’t satisfy the condition, the meeting will be cancelled. You are given the employee-id of all five employees. Your task is to decide if the meeting happened or not.\n",
    "\n",
    "The input will be five lined, each containing an integer. The ith line will have the employee-id of Ei. \n",
    "\n",
    "The output will be a single line containing one of these two strings: YES or NO"
   ]
  },
  {
   "cell_type": "code",
   "execution_count": 64,
   "id": "c14a6884",
   "metadata": {},
   "outputs": [
    {
     "name": "stdout",
     "output_type": "stream",
     "text": [
      "1\n",
      "3\n",
      "4\n",
      "6\n",
      "8\n",
      "NO\n"
     ]
    }
   ],
   "source": [
    "l=[]\n",
    "for i in range(5):\n",
    "    l.append(int(input()))\n",
    "new=[]\n",
    "new.append(l[0]+l[1])\n",
    "new.append(l[1]+l[2])\n",
    "new.append(l[2]+l[3])\n",
    "new.append(l[3]+l[4])\n",
    "new.append(l[4]+l[1])\n",
    "for i in new:\n",
    "    if i%2!=0:\n",
    "        print(\"NO\")\n",
    "        break\n",
    "else:\n",
    "    print(\"Yes\")"
   ]
  },
  {
   "cell_type": "markdown",
   "id": "172afde4",
   "metadata": {},
   "source": [
    "15. Accept a string as input and print the vowels present in the string in alphabetical order. If the string doesn’t contain any vowels, then print the string none as output. Each vowel that appears in the input string – irrespective of its case should appear just once in lower case in the output"
   ]
  },
  {
   "cell_type": "code",
   "execution_count": 77,
   "id": "c37df6e4",
   "metadata": {},
   "outputs": [
    {
     "name": "stdout",
     "output_type": "stream",
     "text": [
      "Enter a String = ineuron\n",
      "eiou\n"
     ]
    }
   ],
   "source": [
    "s=input(\"Enter a String = \")\n",
    "vowels=\"aeiou\"\n",
    "out=[]\n",
    "for i in s.lower():\n",
    "    if i in vowels and i not in out:\n",
    "        out.append(i)\n",
    "if len(out)==0:\n",
    "    print(None)\n",
    "else:\n",
    "    print(\"\".join(sorted(out)))\n"
   ]
  },
  {
   "cell_type": "markdown",
   "id": "5a5edfcf",
   "metadata": {},
   "source": [
    "16.You are given the date of birth of two persons, not necessarily from the same family. Your task is to find the younger of the two. If both of them share the same date of birth, then the younger of the two is assumed to be that person whose name comes first in alphabetical order.\n",
    "\n",
    "The input will have four lines. The first two lines correspond to the first person, while the last two lines correspond to the second person. For each person, the first line corresponds to the name and the second line corresponds to the date of birth in “DD-MM-YYYY” format.\n",
    "\n",
    "Your output should be the name of the younger of the two."
   ]
  },
  {
   "cell_type": "code",
   "execution_count": 108,
   "id": "43f818e9",
   "metadata": {},
   "outputs": [
    {
     "name": "stdout",
     "output_type": "stream",
     "text": [
      "Enter name = nirmal\n",
      "Enter dob in DD-MM-YYYY format = 21-03-2001\n",
      "Enter name = vignu\n",
      "Enter dob in DD-MM-YYYY format = 21-04-2001\n",
      "vignu\n"
     ]
    }
   ],
   "source": [
    "\n",
    "name1=input(\"Enter name = \")\n",
    "dob1 =input(\"Enter dob in DD-MM-YYYY format = \")\n",
    "name2=input(\"Enter name = \")\n",
    "dob2 =input(\"Enter dob in DD-MM-YYYY format = \")\n",
    "if dob1==dob2:\n",
    "    print(sorted([name1,name2])[0])\n",
    "elif dob1[-4:]!=dob2[-4:]:\n",
    "    if dob1[-4:]<dob2[-4:]:\n",
    "        print(name2)\n",
    "    else:\n",
    "        print(name1)\n",
    "elif dob1[-4:]==dob2[-4:]:\n",
    "    if dob1[3:5]!=dob2[3:5]:\n",
    "        if dob1[3:5]<dob2[3:5]:\n",
    "            print(name2)\n",
    "        else:\n",
    "            print(name1)\n",
    "    else:\n",
    "        if dob1[:2]<dob2[:2]:\n",
    "            print(name2)\n",
    "        else:\n",
    "            print(name1)\n",
    "    "
   ]
  },
  {
   "cell_type": "markdown",
   "id": "3ccde70e",
   "metadata": {},
   "source": [
    "17.Accept a string as input. Your task is to determine if the input string is a valid password or not. For a string to be a valid password, it must satisfy all the conditions given below:\n",
    "\n",
    "1) It should have at least 8 and at most 32 characters\n",
    "\n",
    "2) It should start with an uppercase or lowercase letter\n",
    "\n",
    "3) It should not have any of these characters: / \\ = ' \"\n",
    "\n",
    "4) It should not have spaces\n",
    "\n",
    "It could have any character that is not mentioned in the list of characters to be avoided (points 3 and 4). Output True if the string forms a valid password and False otherwise"
   ]
  },
  {
   "cell_type": "code",
   "execution_count": 153,
   "id": "dc0102ca",
   "metadata": {},
   "outputs": [
    {
     "name": "stdout",
     "output_type": "stream",
     "text": [
      "Enter your password = nirmal@213\n",
      "valid password\n"
     ]
    }
   ],
   "source": [
    "p=input(\"Enter your password = \")\n",
    "if len(p) >=8 and len(p)<=32 and p[0].isalpha() and ' ' not in p and '/' not in p and '//' not in p and '=' not in p and '\\'' not in p and '\\\"' not in p:\n",
    "    print(\"valid password\")\n",
    "else:\n",
    "    print(\"invalid password\")\n"
   ]
  },
  {
   "cell_type": "markdown",
   "id": "f80940a6",
   "metadata": {},
   "source": [
    "18. Accept a positive integer n as input and print the first n positive integers, one number on each line."
   ]
  },
  {
   "cell_type": "code",
   "execution_count": 104,
   "id": "669acf2a",
   "metadata": {},
   "outputs": [
    {
     "name": "stdout",
     "output_type": "stream",
     "text": [
      "5\n",
      "1\n",
      "2\n",
      "3\n",
      "4\n",
      "5\n"
     ]
    }
   ],
   "source": [
    "n=int(input())\n",
    "for i in range(1,n+1):\n",
    "    print(i)"
   ]
  },
  {
   "cell_type": "markdown",
   "id": "8e1ff183",
   "metadata": {},
   "source": [
    "19.Accept a positive integer n as input, where n is greater than 1.\n",
    "\n",
    "Print PRIME ifnis a prime number and NOTPRIME otherwise."
   ]
  },
  {
   "cell_type": "code",
   "execution_count": 123,
   "id": "b1265891",
   "metadata": {},
   "outputs": [
    {
     "name": "stdout",
     "output_type": "stream",
     "text": [
      "enter a value greater than 1 = 91\n",
      "NOT PRIME\n"
     ]
    }
   ],
   "source": [
    "n=int(input(\"enter a value greater than 1 = \"))\n",
    "for i in range(2,n//2+1):\n",
    "    if n%i==0:\n",
    "        print(\"NOT PRIME\")\n",
    "        break\n",
    "else:\n",
    "    print(\"PRIME\")"
   ]
  },
  {
   "cell_type": "markdown",
   "id": "f86c8ee8",
   "metadata": {},
   "source": [
    "20. Accept two strings as input and form a new string by removing all characters from the second string which are present in the first string. \n",
    "\n",
    "Print this new string as output. You can assume that all input strings will be in lower case."
   ]
  },
  {
   "cell_type": "code",
   "execution_count": 160,
   "id": "73849ae1",
   "metadata": {},
   "outputs": [
    {
     "name": "stdout",
     "output_type": "stream",
     "text": [
      "Enter first string = sam\n",
      "Enter second string = ramu\n",
      "ru\n"
     ]
    }
   ],
   "source": [
    "s1=input(\"Enter first string = \").lower()\n",
    "s2=input(\"Enter second string = \").lower()\n",
    "new=\"\"\n",
    "for i in s1:\n",
    "    s2=s2.replace(i,\"\")\n",
    "print(s2)"
   ]
  },
  {
   "cell_type": "markdown",
   "id": "63de9344",
   "metadata": {},
   "source": [
    "21.Accept a phone number as input. A valid phone number should satisfy the following constraints.\n",
    "\n",
    "1) The number should start with one of these digits: 6, 7, 8, 9\n",
    "\n",
    "2) The number should be exactly 10 digits long.\n",
    "\n",
    "3) No digit should appear more than 7 times in the number.\n",
    "\n",
    "4) No digit should appear more than 5 times in a row in the number.\n",
    "\n",
    "If the fourth condition is not very clear, then consider this example: \n",
    "\n",
    "the number 9888888765 is invalid because the digit 8 appears more than 5 times in a row. Print the string valid if the phone number is valid. If not, print the string invalid."
   ]
  },
  {
   "cell_type": "code",
   "execution_count": 148,
   "id": "857d41e1",
   "metadata": {},
   "outputs": [
    {
     "name": "stdout",
     "output_type": "stream",
     "text": [
      "Enter phone number: 8100000234\n",
      "valid\n"
     ]
    }
   ],
   "source": [
    "phone=input(\"Enter phone number: \")\n",
    "l='6789'\n",
    "d={}\n",
    "z=[]\n",
    "for i in phone:\n",
    "    if i not in d.keys():\n",
    "        d[i]=phone.count(i)\n",
    "for i in d.keys():\n",
    "    if d[i]>5:\n",
    "        k=phone.index(i)\n",
    "        if phone[k:k+d[i]]==i*d[i]:\n",
    "            z.append(1)\n",
    "if phone[0] in l and len(phone)==10 and sorted(list(d.values()))[-1]<=7 and len(z)==0 :\n",
    "    print(\"valid\")\n",
    "else:\n",
    "    print(\"Invalid\")"
   ]
  },
  {
   "cell_type": "markdown",
   "id": "1cb69196",
   "metadata": {},
   "source": [
    "22. In the first line of input, accept a sequence of space-separated words. In the second line of input, accept a single word. If this word is not present in the sequence, print NO. If this word is present in the sequence, then print YES and in the next line of the output, print the number of times the word appears in the sequence."
   ]
  },
  {
   "cell_type": "code",
   "execution_count": 155,
   "id": "843e4ffd",
   "metadata": {},
   "outputs": [
    {
     "name": "stdout",
     "output_type": "stream",
     "text": [
      "hi hello hi hello\n",
      "hi\n",
      "2\n"
     ]
    }
   ],
   "source": [
    "l1=list(map(str,input().split()))\n",
    "s1=input()\n",
    "if s1 not in l1:\n",
    "    print('No')\n",
    "else:\n",
    "    print(l1.count(s1))"
   ]
  },
  {
   "cell_type": "markdown",
   "id": "41940b6b",
   "metadata": {},
   "source": [
    "23. Write a function named factorial that accepts an integer n as argument. It should return the factorial of n if n is a positive integer. It should return -1 if n is a negative integer, and it should return 1 if n is zero."
   ]
  },
  {
   "cell_type": "code",
   "execution_count": 157,
   "id": "3357d21f",
   "metadata": {},
   "outputs": [
    {
     "name": "stdout",
     "output_type": "stream",
     "text": [
      "120\n",
      "1\n",
      "-1\n"
     ]
    }
   ],
   "source": [
    "def factorial(n):\n",
    "    if n<0:\n",
    "        return -1\n",
    "    elif n==0 or n==1:\n",
    "        return 1\n",
    "    else:\n",
    "        return n*factorial(n-1)\n",
    "print(factorial(5))\n",
    "print(factorial(1))\n",
    "print(factorial(-2))"
   ]
  },
  {
   "cell_type": "markdown",
   "id": "f3ed4f64",
   "metadata": {},
   "source": [
    "24. The range of a list of numbers is the difference between the maximum and minimum values in the list Write a function named get_range that accepts a non-empty list of real numbers as argument. It should return the range of the list.\n",
    "\n",
    "1) Avoid using built-in function such as max and min.\n",
    "\n",
    "2) You do not have to accept input from the user or print output to the console. You just have to write the function definition."
   ]
  },
  {
   "cell_type": "code",
   "execution_count": 163,
   "id": "58999e66",
   "metadata": {},
   "outputs": [
    {
     "data": {
      "text/plain": [
       "(0, 10)"
      ]
     },
     "execution_count": 163,
     "metadata": {},
     "output_type": "execute_result"
    }
   ],
   "source": [
    "def get_range(l):\n",
    "    min1=l[0]\n",
    "    max1=l[0]\n",
    "    for i in l:\n",
    "        if i < min1:\n",
    "            min1=i\n",
    "        if i>max1:\n",
    "            max1=i\n",
    "    return (min1,max1)\n",
    "get_range([2,3,1,4,5,6,0,10,2])"
   ]
  },
  {
   "cell_type": "markdown",
   "id": "6dea6903",
   "metadata": {},
   "source": [
    "25. Write a function named read_file that accepts a text file named filename as argument. Within the function, read the file and print each line of the file on a separate line in the console. You shouldn't print any extra characters at the end of a line. There shouldn't be an empty line between any two consecutive lines.\n",
    "\n",
    "(1) filename is a string variable that holds the name of the file. For example, in the first test case, it is filename = 'public_1.txt'.\n",
    "\n",
    "(2) You do not have to accept input from the console. You have to write the function definition and print the contents of the file within the function"
   ]
  },
  {
   "attachments": {
    "image.png": {
     "image/png": "[encoded data removed]"
    }
   },
   "cell_type": "markdown",
   "id": "8d8ade4f",
   "metadata": {},
   "source": [
    "![image.png](attachment:image.png)"
   ]
  },
  {
   "cell_type": "code",
   "execution_count": 175,
   "id": "f5e83f01",
   "metadata": {},
   "outputs": [
    {
     "name": "stdout",
     "output_type": "stream",
     "text": [
      "Name: Varigonda Sai Nirmal Vignu\n",
      "Email: varigondanirmal1@gmail.com\n",
      "Practicing Python\n"
     ]
    }
   ],
   "source": [
    "def read_file(filename):\n",
    "    with open(filename,'r') as f:\n",
    "        for i in f.readlines():\n",
    "            print(i.replace('\\n',''))\n",
    "        f.close()\n",
    "read_file('practice.txt')"
   ]
  },
  {
   "cell_type": "markdown",
   "id": "e360d1b1",
   "metadata": {},
   "source": [
    "26. A simple algorithm has to be designed to find out whether a student belongs to the Data Science branch or not. The input will be a student's roll number, which is of the form BR18B0000. Here, BR represents the branch code, 18 represents the year of joining, B represents the education level and 0000 represents the specific identification given to the student of that batch. The branch code for Data Science is DS. Print True if the student belongs to Data Science branch and False otherwise."
   ]
  },
  {
   "cell_type": "code",
   "execution_count": 177,
   "id": "15aca866",
   "metadata": {},
   "outputs": [
    {
     "name": "stdout",
     "output_type": "stream",
     "text": [
      "Enter student rollnumber = DS22B0001\n",
      "True\n"
     ]
    }
   ],
   "source": [
    "reg=input(\"Enter student rollnumber = \")\n",
    "if reg[0:2]==\"DS\":\n",
    "    print(True)\n",
    "else:\n",
    "    print(False)"
   ]
  },
  {
   "cell_type": "markdown",
   "id": "2153c64e",
   "metadata": {},
   "source": [
    "27. The police are trying to track a criminal based on the evidence available at a crime site. Their main clue is a vehicle's damaged number plate. Only the string TN07 is visible. The format of the registration number is AA00AA00, where the first two letters are alphabets, next two are numbers, next two are again alphabets followed by two numbers at the end. A number plate is picked from a database of registration numbers and is given to you as input. Your task is to determine if this could belong to the criminal or not. Print True if the number plate contains TN07 and False otherwise."
   ]
  },
  {
   "cell_type": "code",
   "execution_count": 178,
   "id": "414fcd2b",
   "metadata": {},
   "outputs": [
    {
     "name": "stdout",
     "output_type": "stream",
     "text": [
      "Enter vehicle number plate = TN07AQ1234\n",
      "True\n"
     ]
    }
   ],
   "source": [
    "num_plate=input(\"Enter vehicle number plate = \")\n",
    "if num_plate[:4] == \"TN07\":\n",
    "    print(True)\n",
    "else:\n",
    "    print(False)"
   ]
  },
  {
   "cell_type": "markdown",
   "id": "ff91e9ab",
   "metadata": {},
   "source": [
    "28. You are given a string and two non-negative integers as input. The two integers specify the start and end indices of a substring in the given string. Create a new string by replicating the substring a minimum number of times so that the resulting string is longer than the input string. The input parameters are the string, start index of the substring and the end index of substring (endpoints inclusive) each on a different line."
   ]
  },
  {
   "cell_type": "code",
   "execution_count": 2,
   "id": "0bbcfb4a",
   "metadata": {},
   "outputs": [
    {
     "name": "stdout",
     "output_type": "stream",
     "text": [
      "nirmal\n",
      "-3\n",
      "-1\n",
      "mamamama\n"
     ]
    }
   ],
   "source": [
    "string=input()\n",
    "n1=int(input())\n",
    "n2=int(input())\n",
    "substr=string[n1:n2]\n",
    "new=\"\"\n",
    "while True:\n",
    "    if len(new)>len(string):\n",
    "        break\n",
    "    else:\n",
    "        new+=substr\n",
    "print(new)"
   ]
  },
  {
   "cell_type": "markdown",
   "id": "b2b26f7c",
   "metadata": {},
   "source": [
    "29. A class teacher has decided to split her entire class into four groups, namely Sapphire, Peridot, Ruby,and Emerald for sports competitions. For dividing the students into these four groups, she has followed the pattern given below:\n",
    "\n",
    "Sapphire - 1, 5, 9, 13, 17, 21, ...\n",
    "\n",
    "Peridot - 2, 6, 10, 14, 18, 22, ...\n",
    "\n",
    "Ruby - 3, 7, 11, 15, 19, 23, ...\n",
    "\n",
    "Emerald - 4, 8, 12, 16, 20, 24, ...\n",
    "\n",
    "All the students are represented by their roll numbers. Based on the above pattern, given the roll number as input, print the group the student belongs to. Note that the roll number can be any positive integer and not necessarily less than 25."
   ]
  },
  {
   "cell_type": "code",
   "execution_count": 15,
   "id": "9c4f9e2e",
   "metadata": {},
   "outputs": [
    {
     "name": "stdout",
     "output_type": "stream",
     "text": [
      "Sapphire =  [1, 5, 9, 13, 17, 21, 25]\n",
      "Peridot =  [2, 6, 10, 14, 18, 22]\n",
      "Ruby =  [3, 7, 11, 15, 19, 23]\n",
      "Emerlad =  [4, 8, 12, 16, 20, 24]\n"
     ]
    }
   ],
   "source": [
    "n=25\n",
    "Sapphire=[]\n",
    "Peridot=[]\n",
    "Ruby=[]\n",
    "Emerlad=[]\n",
    "i=1\n",
    "while i<=n:\n",
    "    if i<=n:\n",
    "        Sapphire.append(i)\n",
    "        i+=1\n",
    "    if i<=n:\n",
    "        Peridot.append(i)\n",
    "        i+=1\n",
    "    if i<=n:\n",
    "        Ruby.append(i)\n",
    "        i+=1\n",
    "    if i<=n:\n",
    "        Emerlad.append(i)\n",
    "        i+=1\n",
    "print(\"Sapphire = \",Sapphire)\n",
    "print(\"Peridot = \",Peridot)\n",
    "print(\"Ruby = \",Ruby)\n",
    "print(\"Emerlad = \",Emerlad)\n",
    "    \n",
    "    \n",
    "\n"
   ]
  },
  {
   "cell_type": "markdown",
   "id": "6cd15a19",
   "metadata": {},
   "source": [
    "30. A data science company wants to hire data scientists from abc college. The company follows a certain criteria for selection: for a student to be selected, the number of backlogs should be at most 5 and the CGPA (Cumulative Grade Point Average) should be greater than 6. If the student does not fit the above criteria, then the student is not offered the job. If the student is selected, then the salary offered is equal to 5 times his/her CGPA (in lakhs).Accept the number of backlogs (integer) and the CGPA (float) of the student as input. Your task is to determine if the student is selected or not. If the student is selected, then print the package. If not, then print the string Not Selected."
   ]
  },
  {
   "cell_type": "code",
   "execution_count": 2,
   "id": "9998a4b6",
   "metadata": {},
   "outputs": [
    {
     "name": "stdout",
     "output_type": "stream",
     "text": [
      "Enter no of backlogs = 0\n",
      "Enter your CGPA = 7.4\n",
      "your selected and your package is =  37.0 (in lakhs)\n"
     ]
    }
   ],
   "source": [
    "backlogs=int(input(\"Enter no of backlogs = \"))\n",
    "cgpa=float(input(\"Enter your CGPA = \"))\n",
    "if backlogs<=5 and cgpa>6.0:\n",
    "    salary=5*cgpa\n",
    "    print(\"your selected and your package is = \",salary,\"(in lakhs)\")\n",
    "else:\n",
    "    print(\"Not Selected\")"
   ]
  },
  {
   "cell_type": "markdown",
   "id": "e2cd64b3",
   "metadata": {},
   "source": [
    "31. Accept a string as input and print PALINDROME if it is a palindrome, and NOT PALINDROME otherwise"
   ]
  },
  {
   "cell_type": "code",
   "execution_count": 284,
   "id": "0d6eee19",
   "metadata": {},
   "outputs": [
    {
     "name": "stdout",
     "output_type": "stream",
     "text": [
      "asddsa\n",
      "PALINDROME\n"
     ]
    }
   ],
   "source": [
    "string=input()\n",
    "if string==string[::-1]:\n",
    "    print('PALINDROME')\n",
    "else:\n",
    "    print(\"NOT A PALINDROME\")"
   ]
  },
  {
   "cell_type": "markdown",
   "id": "4a3c6542",
   "metadata": {},
   "source": [
    "32. In a portal login website, you are asked to write a function get_password_strength to decide the strength of a password. The strength is decided based on the total score of the password, Use following conditions:\n",
    "\n",
    "1) If password has length greater than 7 then score increases by one point.\n",
    "\n",
    "2) If password has at least one upper case and one lower case alphabets score increases by one point.\n",
    "\n",
    "3) If password has at least one number and no consecutive numbers like 12 or 234 then score increases by one point.\n",
    "\n",
    "4) If password has at least one special character (any character other than numbers and alphabets) then score increases by one point.\n",
    "\n",
    "5) If password contains username, then it is invalid password.\n",
    "\n",
    "If the password has score of four points, three points, two points, or one point then print Very Strong, Strong, Moderate, or Weak respectively. If the password is invalid, then print PASSWORD SHOULD NOT CONTAIN USERNAME and If the score is zero, then print Use a different password.The arguments to the function are username and password which are already defined"
   ]
  },
  {
   "cell_type": "code",
   "execution_count": 279,
   "id": "584bdf07",
   "metadata": {},
   "outputs": [
    {
     "name": "stdout",
     "output_type": "stream",
     "text": [
      "Strong\n"
     ]
    }
   ],
   "source": [
    "def password(username, password):\n",
    "    score=0\n",
    "    hasLower = False\n",
    "    hasUpper = False\n",
    "    hasDigit = False\n",
    "    specialChar = False\n",
    "    digit=\"\"\n",
    "    for i in range(len(password)):\n",
    "        if password[i].islower():\n",
    "            hasLower = True\n",
    "        if password[i].isupper():\n",
    "            hasUpper = True\n",
    "        if password[i].isdigit() :\n",
    "            digit+=password[i]\n",
    "            hasDigit = True\n",
    "        if not password[i].isalpha():\n",
    "            specialChar = True\n",
    "    if username in password:\n",
    "        return 'PASSWORD SHOULD NOT CONTAIN USERNAME'\n",
    "    if len(password)>7:\n",
    "        score+=1\n",
    "    if hasLower and hasUpper:\n",
    "        score+=1\n",
    "    if hasDigit and digit not in \"123456789\"  :\n",
    "        print(digit)\n",
    "        score+=1\n",
    "    if specialChar:\n",
    "        score+=1\n",
    "    return score\n",
    "score=password(\"Nirmal\", \"Vig1234@Nir\")\n",
    "if score==4:\n",
    "    print(\"Very Strong\")\n",
    "if score==3:\n",
    "    print(\"Strong\")\n",
    "if score==2:\n",
    "    print(\"Moderate\")\n",
    "if score==1:\n",
    "    print(\"Weak\")\n",
    "if score==0:\n",
    "    print('Use a different password')\n"
   ]
  },
  {
   "cell_type": "markdown",
   "id": "7adca748",
   "metadata": {},
   "source": [
    "33. decorator that logs the date and time"
   ]
  },
  {
   "cell_type": "code",
   "execution_count": 255,
   "id": "33c9ac84",
   "metadata": {},
   "outputs": [
    {
     "name": "stdout",
     "output_type": "stream",
     "text": [
      "2022-11-19 20:36:13.438885\n",
      "Executing\n"
     ]
    }
   ],
   "source": [
    "from datetime import datetime\n",
    "def log_date(func):\n",
    "    def logging():\n",
    "        now = datetime.now()\n",
    "        print(now)\n",
    "        func()\n",
    "    return logging\n",
    "\n",
    "@log_date\n",
    "def main():\n",
    "    print(\"Executing\")\n",
    "\n",
    "main()"
   ]
  },
  {
   "cell_type": "markdown",
   "id": "253f78fe",
   "metadata": {},
   "source": [
    "34. Program to Get Data Items From a List Appearing Odd Number of Times"
   ]
  },
  {
   "cell_type": "code",
   "execution_count": 251,
   "id": "db22dcca",
   "metadata": {},
   "outputs": [
    {
     "name": "stdout",
     "output_type": "stream",
     "text": [
      "given =  [1, 1, 1, 1, 1, 2, 2, 2, 2, 3, 3, 3, 4, 4, 5, 5, 5, 5, 5, 6, 6, 6, 6, 7, 7]\n",
      "{1: 5, 2: 4, 3: 3, 4: 2, 5: 5, 6: 4, 7: 2}\n",
      "1 3 5 "
     ]
    }
   ],
   "source": [
    "l=[1,1,1,1,1,2,2,2,2,3,3,3,4,4,5,5,5,5,5,6,6,6,6,7,7]\n",
    "print(\"given = \",l)\n",
    "d={}\n",
    "for i in l:\n",
    "    if i not in d:\n",
    "        d[i]=l.count(i)\n",
    "print(d)\n",
    "for i in d.keys():\n",
    "    if d[i]%2!=0:\n",
    "        print(i,end=\" \")"
   ]
  },
  {
   "cell_type": "markdown",
   "id": "b30c9ed6",
   "metadata": {},
   "source": [
    "35. What are decorators in Python?"
   ]
  },
  {
   "cell_type": "markdown",
   "id": "11f2c57c",
   "metadata": {},
   "source": [
    "A decorator is a design pattern in Python that allows a user to add new functionality to an existing object without modifying its structure. Decorators are usually called before the definition of a function you want to decorate."
   ]
  },
  {
   "cell_type": "code",
   "execution_count": 244,
   "id": "b4fa8344",
   "metadata": {},
   "outputs": [
    {
     "name": "stdout",
     "output_type": "stream",
     "text": [
      "Befor func execution\n",
      "This is inside the function !!\n"
     ]
    }
   ],
   "source": [
    "def decor(func):\n",
    "    def inner():\n",
    "        print(\"Befor func execution\")\n",
    "        func()\n",
    "    return inner\n",
    "@decor\n",
    "def main1():\n",
    "    print(\"This is inside the function !!\")\n",
    "main1()"
   ]
  },
  {
   "cell_type": "markdown",
   "id": "0fefc849",
   "metadata": {},
   "source": [
    "36. remove items from a list while iterating but without creating a different copy of a list.Remove numbers greater than 50\n",
    "\n",
    "number_list = [10, 20, 30, 40, 50, 60, 70, 80, 90, 100]\n",
    "\n",
    "Expected Output: [10, 20, 30, 40, 50]"
   ]
  },
  {
   "cell_type": "code",
   "execution_count": 236,
   "id": "03d68ce4",
   "metadata": {},
   "outputs": [
    {
     "name": "stdout",
     "output_type": "stream",
     "text": [
      "[10, 20, 30, 40, 50]\n"
     ]
    }
   ],
   "source": [
    "list1 = [10, 20, 30, 40, 50, 60, 70, 80, 90, 100]\n",
    "i = 0\n",
    "n = len(list1)\n",
    "\n",
    "while i < n:\n",
    "    if list1[i]>50:\n",
    "        del list1[i]\n",
    "        n=n-1\n",
    "    else:\n",
    "        i=i+1\n",
    "print(list1)"
   ]
  },
  {
   "cell_type": "markdown",
   "id": "967bf8d9",
   "metadata": {},
   "source": [
    "37.  Display all duplicate items from a list\n",
    "\n",
    "\n",
    "sample_list = [10, 20, 60, 30, 20, 40, 30, 60, 70, 80]\n",
    "\n",
    "Expected Output: [20, 60, 30]"
   ]
  },
  {
   "cell_type": "code",
   "execution_count": 230,
   "id": "0c869ad1",
   "metadata": {},
   "outputs": [
    {
     "name": "stdout",
     "output_type": "stream",
     "text": [
      "[20, 60, 30]\n"
     ]
    }
   ],
   "source": [
    "l1 = [10, 20, 60, 30, 20, 40, 30, 60, 70, 80]\n",
    "out=[]\n",
    "for i in l1:\n",
    "    if l1.count(i)>1 and i not in out:\n",
    "        out.append(i)\n",
    "print(out)"
   ]
  },
  {
   "cell_type": "markdown",
   "id": "1f334c3d",
   "metadata": {},
   "source": [
    "38. Create an outer function that will accept two strings, x and y. (x= 'Emma' and y = 'Kelly'.Create an inner function inside an outer function that will concatenate x and y.At last, an outer function will join the word 'developer' to it."
   ]
  },
  {
   "cell_type": "code",
   "execution_count": 228,
   "id": "faa76bc4",
   "metadata": {},
   "outputs": [
    {
     "name": "stdout",
     "output_type": "stream",
     "text": [
      "EmmaKellyDevelopers\n"
     ]
    }
   ],
   "source": [
    "def outter_fun(x, y):\n",
    "    def inner_fun(x, y):\n",
    "        return x + y\n",
    "    z = inner_fun(x, y)\n",
    "    return z + 'Developers'\n",
    "\n",
    "result = outter_fun('Emma', 'Kelly')\n",
    "print(result)"
   ]
  },
  {
   "cell_type": "markdown",
   "id": "90406654",
   "metadata": {},
   "source": [
    "39. Modify the element of a nested list inside the following listChange the element 35 to 3500\n",
    "\n",
    "list1 = [5, [10, 15, [20, 25, [30, 35], 40], 45], 50]"
   ]
  },
  {
   "cell_type": "code",
   "execution_count": 227,
   "id": "37b2f505",
   "metadata": {},
   "outputs": [
    {
     "data": {
      "text/plain": [
       "[5, [10, 15, [20, 25, [30, 3500], 40], 45], 50]"
      ]
     },
     "execution_count": 227,
     "metadata": {},
     "output_type": "execute_result"
    }
   ],
   "source": [
    "list1 = [5, [10, 15, [20, 25, [30, 35], 40], 45], 50]\n",
    "list1[1][2][2][1]=3500\n",
    "list1"
   ]
  },
  {
   "cell_type": "markdown",
   "id": "172e67ff",
   "metadata": {},
   "source": [
    "40.  Access the nested key increment from the following dictionary\n",
    "\n",
    "Access 12\n",
    "emp_dict = {\n",
    "    \"company\": {\n",
    "        \"employee\": {\n",
    "            \"name\": \"Jess\",\n",
    "            \"payable\": {\n",
    "                \"salary\": 9000,\n",
    "                \"increment\": 12\n",
    "            }\n",
    "        }\n",
    "    }\n",
    "}"
   ]
  },
  {
   "cell_type": "code",
   "execution_count": 222,
   "id": "579b07f9",
   "metadata": {},
   "outputs": [
    {
     "name": "stdout",
     "output_type": "stream",
     "text": [
      "12\n"
     ]
    }
   ],
   "source": [
    "emp_dict = {\n",
    "    \"company\": {\n",
    "        \"employee\": {\n",
    "            \"name\": \"Jess\",\n",
    "            \"payable\": {\n",
    "                \"salary\": 9000,\n",
    "                \"increment\": 12\n",
    "            }\n",
    "        }\n",
    "    }\n",
    "}\n",
    "print(emp_dict['company']['employee']['payable']['increment'])"
   ]
  },
  {
   "cell_type": "markdown",
   "id": "9929f48a",
   "metadata": {},
   "source": [
    "41. Print the sum of the current number and the previous number Write a program to iterate the first 10 numbers and in each iteration, print the sum of the current and previous number.\n",
    "\n",
    "Printing current and previous number sum in a range(10)\n",
    "\n",
    "Current Number 0 Previous Number  0  Sum:  0\n",
    "\n",
    "Current Number 1 Previous Number  0  Sum:  1\n",
    "\n",
    "Current Number 2 Previous Number  1  Sum:  3\n",
    "\n",
    "Current Number 3 Previous Number  2  Sum:  5\n",
    "\n",
    "Current Number 4 Previous Number  3  Sum:  7\n",
    "\n",
    "Current Number 5 Previous Number  4  Sum:  9\n",
    "\n",
    "Current Number 6 Previous Number  5  Sum:  11\n",
    "\n",
    "Current Number 7 Previous Number  6  Sum:  13\n",
    "\n",
    "Current Number 8 Previous Number  7  Sum:  15\n",
    "\n",
    "Current Number 9 Previous Number  8  Sum:  17"
   ]
  },
  {
   "cell_type": "code",
   "execution_count": 238,
   "id": "74c66ed0",
   "metadata": {},
   "outputs": [
    {
     "name": "stdout",
     "output_type": "stream",
     "text": [
      "Printing current and previous number sum in a range(10)\n",
      "Current Number 0 Previous Number  0  Sum:  0\n",
      "Current Number 1 Previous Number  0  Sum:  1\n",
      "Current Number 2 Previous Number  1  Sum:  3\n",
      "Current Number 3 Previous Number  2  Sum:  5\n",
      "Current Number 4 Previous Number  3  Sum:  7\n",
      "Current Number 5 Previous Number  4  Sum:  9\n",
      "Current Number 6 Previous Number  5  Sum:  11\n",
      "Current Number 7 Previous Number  6  Sum:  13\n",
      "Current Number 8 Previous Number  7  Sum:  15\n",
      "Current Number 9 Previous Number  8  Sum:  17\n"
     ]
    }
   ],
   "source": [
    "print(\"Printing current and previous number sum in a range(10)\")\n",
    "prev=0\n",
    "\n",
    "for i in range(0,10):\n",
    "    sum=prev+i\n",
    "    print(f\"Current Number {i} Previous Number  {prev}  Sum:  {sum}\")\n",
    "    prev=i"
   ]
  },
  {
   "cell_type": "markdown",
   "id": "4411d1a8",
   "metadata": {},
   "source": [
    "42. Print characters from a string that are present at an even index numberWrite a program to accept a string from the user and display characters that are present at an even index number.\n",
    "\n",
    "For example, str = \"ineuron\" so you should display ‘i’, ‘e’, ‘r’, ‘n’."
   ]
  },
  {
   "cell_type": "code",
   "execution_count": 211,
   "id": "27ac62f1",
   "metadata": {},
   "outputs": [
    {
     "name": "stdout",
     "output_type": "stream",
     "text": [
      "ineuron\n",
      "i e r n "
     ]
    }
   ],
   "source": [
    "string=input()\n",
    "for i in range(len(string)):\n",
    "    if i%2==0:\n",
    "        print(string[i],end=\" \")"
   ]
  },
  {
   "cell_type": "markdown",
   "id": "9b4f2653",
   "metadata": {},
   "source": [
    "43. Print multiplication table form 1 to 10\n",
    "\n",
    "1  2 3 4 5 6 7 8 9 10 \t\t\n",
    "\n",
    "2  4 6 8 10 12 14 16 18 20 \t\t\n",
    "\n",
    "3  6 9 12 15 18 21 24 27 30 \t\t\n",
    "\n",
    "4  8 12 16 20 24 28 32 36 40 \t\t\n",
    "\n",
    "5  10 15 20 25 30 35 40 45 50 \t\t\n",
    "\n",
    "6  12 18 24 30 36 42 48 54 60 \t\t\n",
    "\n",
    "7  14 21 28 35 42 49 56 63 70 \t\t\n",
    "\n",
    "8  16 24 32 40 48 56 64 72 80 \t\t\n",
    "\n",
    "9  18 27 36 45 54 63 72 81 90 \t\t\n",
    "\n",
    "10 20 30 40 50 60 70 80 90 100 "
   ]
  },
  {
   "cell_type": "code",
   "execution_count": 209,
   "id": "15f1541d",
   "metadata": {},
   "outputs": [
    {
     "name": "stdout",
     "output_type": "stream",
     "text": [
      "1 2 3 4 5 6 7 8 9 10 \n",
      "2 4 6 8 10 12 14 16 18 20 \n",
      "3 6 9 12 15 18 21 24 27 30 \n",
      "4 8 12 16 20 24 28 32 36 40 \n",
      "5 10 15 20 25 30 35 40 45 50 \n",
      "6 12 18 24 30 36 42 48 54 60 \n",
      "7 14 21 28 35 42 49 56 63 70 \n",
      "8 16 24 32 40 48 56 64 72 80 \n",
      "9 18 27 36 45 54 63 72 81 90 \n",
      "10 20 30 40 50 60 70 80 90 100 \n"
     ]
    }
   ],
   "source": [
    "for i in range(1,11):\n",
    "    for j in range(1,11):\n",
    "        print(i*j,end=\" \")\n",
    "    print()"
   ]
  },
  {
   "cell_type": "markdown",
   "id": "a57df591",
   "metadata": {},
   "source": [
    "44. Remove duplicates from a list and create a tuple and find the minimum and maximum number\n",
    "\n",
    "sample_list = [87, 45, 41, 65, 94, 41, 99, 94]\n",
    "\n",
    "Expected Outcome:\n",
    "\n",
    "unique items [87, 45, 41, 65, 99]\n",
    "\n",
    "tuple (87, 45, 41, 65, 99)\n",
    "\n",
    "min: 41\n",
    "\n",
    "max: 99"
   ]
  },
  {
   "cell_type": "code",
   "execution_count": 4,
   "id": "d55b15a9",
   "metadata": {},
   "outputs": [
    {
     "name": "stdout",
     "output_type": "stream",
     "text": [
      "unique items =  [87, 45, 41, 65, 94, 99]\n",
      "tuple =  (87, 45, 41, 65, 94, 99)\n",
      "min :  41\n",
      "max :  99\n"
     ]
    }
   ],
   "source": [
    "l=[87,45,41,65,94,41,99,94]\n",
    "l1=[]\n",
    "for i in l:\n",
    "    if i not in l1:\n",
    "        l1.append(i)\n",
    "l1_tup=tuple(l1)\n",
    "print(\"unique items = \",l1)\n",
    "print(\"tuple = \",l1_tup)\n",
    "print(\"min : \",min(l1_tup))\n",
    "print(\"max : \",max(l1_tup))"
   ]
  },
  {
   "cell_type": "markdown",
   "id": "c5de8092",
   "metadata": {},
   "source": [
    "45. Write a Python program to create a lambda function that adds 15 to a given number passed in as an argument,also create a lambda function that multiplies argument x with argument y and print the result."
   ]
  },
  {
   "cell_type": "code",
   "execution_count": 203,
   "id": "015b27a6",
   "metadata": {},
   "outputs": [
    {
     "name": "stdout",
     "output_type": "stream",
     "text": [
      "27\n",
      "6\n"
     ]
    }
   ],
   "source": [
    "l1= lambda x: x+15\n",
    "l2=lambda x,y: x*y\n",
    "print(l1(12))\n",
    "print(l2(2,3))"
   ]
  },
  {
   "cell_type": "markdown",
   "id": "6434386d",
   "metadata": {},
   "source": [
    "46. Write a Python program to sort a list of tuples using Lambda."
   ]
  },
  {
   "cell_type": "code",
   "execution_count": 202,
   "id": "828be46d",
   "metadata": {},
   "outputs": [
    {
     "name": "stdout",
     "output_type": "stream",
     "text": [
      "Given list of tuples =  [('A', 1), ('D', 14), ('E', 11), ('Z', 26), ('H', 23), ('Y', 111), ('N', 45)]\n",
      "After sorted using numerical values=  [('A', 1), ('E', 11), ('D', 14), ('H', 23), ('Z', 26), ('N', 45), ('Y', 111)]\n",
      "After sorted using Alphabets=  [('A', 1), ('D', 14), ('E', 11), ('H', 23), ('N', 45), ('Y', 111), ('Z', 26)]\n"
     ]
    }
   ],
   "source": [
    "list_tuples=[(\"A\",1),(\"D\",14),(\"E\",11),(\"Z\",26),(\"H\",23),(\"Y\",111),(\"N\",45)]\n",
    "print(\"Given list of tuples = \",list_tuples)\n",
    "sorted_list_tuples1 = sorted(list_tuples, key=lambda x: x[0]) #sorted using numerical values\n",
    "sorted_list_tuples2 = sorted(list_tuples, key=lambda x: x[1]) #sorted using Alphabets\n",
    "print(\"After sorted using numerical values= \",sorted_list_tuples2)\n",
    "print(\"After sorted using Alphabets= \",sorted_list_tuples1)"
   ]
  },
  {
   "cell_type": "markdown",
   "id": "f6e1fd32",
   "metadata": {},
   "source": [
    "47. Write a Python program to extract year, month, date and time using Lambda."
   ]
  },
  {
   "cell_type": "code",
   "execution_count": 194,
   "id": "6ea7bc6f",
   "metadata": {},
   "outputs": [
    {
     "name": "stdout",
     "output_type": "stream",
     "text": [
      "2022-11-19 19:20:31.140201\n",
      "2022\n",
      "11\n",
      "19\n",
      "19:20:31.140201\n"
     ]
    }
   ],
   "source": [
    "import datetime\n",
    "now = datetime.datetime.now()\n",
    "print(now)\n",
    "year = lambda x: x.year\n",
    "month = lambda x: x.month\n",
    "day = lambda x: x.day\n",
    "t = lambda x: x.time()\n",
    "print(year(now))\n",
    "print(month(now))\n",
    "print(day(now))\n",
    "print(t(now))"
   ]
  },
  {
   "cell_type": "markdown",
   "id": "ecf4b17e",
   "metadata": {},
   "source": [
    "48. Write a Python program to count the even, odd numbers in a given array of integers using Lambda."
   ]
  },
  {
   "cell_type": "code",
   "execution_count": 193,
   "id": "66ad2a87",
   "metadata": {},
   "outputs": [
    {
     "name": "stdout",
     "output_type": "stream",
     "text": [
      "given array =  [1, 2, 3, 4, 5, 6, 7, 8, 9, 10, 12, 13, 14, 15]\n",
      "No of even numbers: 7 and No of odd numbers: 7\n"
     ]
    }
   ],
   "source": [
    "ar=[1,2,3,4,5,6,7,8,9,10,12,13,14,15]\n",
    "even_nums=list(filter(lambda x:x%2==0, ar))\n",
    "odd_nums=list(filter(lambda x:x%2!=0,ar))\n",
    "print(\"given array = \",ar)\n",
    "print(f\"No of even numbers: {len(even_nums)} and No of odd numbers: {len(odd_nums)}\")"
   ]
  },
  {
   "cell_type": "markdown",
   "id": "2a7b5cc4",
   "metadata": {},
   "source": [
    "49. Write a Python program to convert all the characters in uppercase and lowercase and eliminate duplicate letters from a given sequence. Use map() function."
   ]
  },
  {
   "cell_type": "code",
   "execution_count": 188,
   "id": "5c16d475",
   "metadata": {},
   "outputs": [
    {
     "name": "stdout",
     "output_type": "stream",
     "text": [
      "After converting above characters in upper and lower cases and eliminating duplicate letters:\n",
      "{('R', 'r'), ('A', 'a'), ('U', 'u'), ('E', 'e'), ('O', 'o'), ('N', 'n'), ('I', 'i')}\n"
     ]
    }
   ],
   "source": [
    "sequence = ['i', 'n', 'E', 'u', 'r', 'o', 'n', 'A', 'I']\n",
    "result = map(lambda x : (x.upper(),x.lower()), sequence)\n",
    "print(\"After converting above characters in upper and lower cases and eliminating duplicate letters:\")\n",
    "print(set(result))"
   ]
  },
  {
   "cell_type": "markdown",
   "id": "46671657",
   "metadata": {},
   "source": [
    "50.  Write a Python program to square the elements of a list using map() function."
   ]
  },
  {
   "cell_type": "code",
   "execution_count": 181,
   "id": "c3f447c1",
   "metadata": {},
   "outputs": [
    {
     "name": "stdout",
     "output_type": "stream",
     "text": [
      "[4, 16, 36, 64, 100]\n"
     ]
    }
   ],
   "source": [
    "l1=[2,4,6,8,10]\n",
    "out=list(map(lambda x : x*x,l1))\n",
    "print(out)"
   ]
  }
 ],
 "metadata": {
  "kernelspec": {
   "display_name": "Python 3 (ipykernel)",
   "language": "python",
   "name": "python3"
  },
  "language_info": {
   "codemirror_mode": {
    "name": "ipython",
    "version": 3
   },
   "file_extension": ".py",
   "mimetype": "text/x-python",
   "name": "python",
   "nbconvert_exporter": "python",
   "pygments_lexer": "ipython3",
   "version": "3.9.12"
  }
 },
 "nbformat": 4,
 "nbformat_minor": 5
}
