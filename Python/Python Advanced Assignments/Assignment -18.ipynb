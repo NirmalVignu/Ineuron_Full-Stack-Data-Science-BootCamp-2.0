{
 "cells": [
  {
   "cell_type": "markdown",
   "id": "a465d528",
   "metadata": {},
   "source": [
    "### Name: Varigonda Sai Nirmal Vignu\n",
    "### Email: varigondanirmal1@gmail.com\n",
    "### Assignment - 18"
   ]
  },
  {
   "cell_type": "markdown",
   "id": "451b771c",
   "metadata": {},
   "source": [
    "### Q1. Describe the differences between text and binary files in a single paragraph"
   ]
  },
  {
   "cell_type": "markdown",
   "id": "1b1e61ed",
   "metadata": {},
   "source": [
    "The differences between Text Files and Binary Files are:\n",
    "\n",
    "**Text files** are special subset of binary files that are used to store human readable characters as a rich text document or plain text document. Text files also store data in sequential bytes but bits in text file represents characters.\n",
    "\n",
    "**Binary files** are those typical files that store data in the form of sequence of bytes grouped into eight bits or sometimes sixteen bits. These bits represent custom data and such files can store multiple types of data (images, audio, text, etc) under a single file."
   ]
  },
  {
   "cell_type": "markdown",
   "id": "156dc5c8",
   "metadata": {},
   "source": [
    "### Q2. What are some scenarios where using text files will be the better option? When would you like to use binary files instead of text files?"
   ]
  },
  {
   "cell_type": "markdown",
   "id": "7c50ba46",
   "metadata": {},
   "source": [
    "Text files are less prone to get corrupted as any undesired change may just show up once the file is opened and then can easily be removed. Whereas Use binary files instead of text files for image data."
   ]
  },
  {
   "cell_type": "markdown",
   "id": "10ed764a",
   "metadata": {},
   "source": [
    "### Q3. What are some of the issues with using binary operations to read and write a Python integer directly to disc?"
   ]
  },
  {
   "cell_type": "markdown",
   "id": "25785d6e",
   "metadata": {},
   "source": [
    "When we read or write a python integer using binary operations\n",
    "\n",
    "* Binary operations deal with raw data\n",
    "* One needs to identify how many bytes one would read or write."
   ]
  },
  {
   "cell_type": "markdown",
   "id": "081a3745",
   "metadata": {},
   "source": [
    "### Q4. Describe a benefit of using the with keyword instead of explicitly opening a file ?"
   ]
  },
  {
   "cell_type": "markdown",
   "id": "d32b04f8",
   "metadata": {},
   "source": [
    "When a file is opened using the `with` keyword, if some exceptions occur after opening a file, or at the end of the file it automatically does the closing of the file. There by not leaving an file in open mode and there would no need to explicitly close a file."
   ]
  },
  {
   "cell_type": "markdown",
   "id": "685588e1",
   "metadata": {},
   "source": [
    "### Q5. Does Python have the trailing newline while reading a line of text? Does Python append a newline when you write a line of text?"
   ]
  },
  {
   "cell_type": "markdown",
   "id": "44a0e110",
   "metadata": {},
   "source": [
    " Yes, Python have the trailing newline while reading a line of text. When we write a newline has to be provided in python excpicitly."
   ]
  },
  {
   "cell_type": "markdown",
   "id": "5c3be6c0",
   "metadata": {},
   "source": [
    "### Q6. What file operations enable for random-access operation?`"
   ]
  },
  {
   "cell_type": "markdown",
   "id": "b13294da",
   "metadata": {},
   "source": [
    "The file operations enable for random-access operation are **`seek() and tell()`**"
   ]
  },
  {
   "cell_type": "markdown",
   "id": "67857d5b",
   "metadata": {},
   "source": [
    "### Q7. When do you think you'll use the struct package the most?"
   ]
  },
  {
   "cell_type": "markdown",
   "id": "5877a5dc",
   "metadata": {},
   "source": [
    "The **struct** package is mostly used while converting a common python types into **C** language types."
   ]
  },
  {
   "cell_type": "markdown",
   "id": "a3ab0ce3",
   "metadata": {},
   "source": [
    "### Q8. When is pickling the best option?"
   ]
  },
  {
   "cell_type": "markdown",
   "id": "c31a665a",
   "metadata": {},
   "source": [
    "Pickling is best option for creating a new binary file using python."
   ]
  },
  {
   "cell_type": "markdown",
   "id": "a99542c8",
   "metadata": {},
   "source": [
    "### Q9. When will it be best to use the shelve package?"
   ]
  },
  {
   "cell_type": "markdown",
   "id": "77cd1f72",
   "metadata": {},
   "source": [
    "*Shelve package* is used to pickle data but treats the entire file as dictionary."
   ]
  },
  {
   "cell_type": "markdown",
   "id": "cad6d36b",
   "metadata": {},
   "source": [
    "### Q10. What is a special restriction when using the shelve package, as opposed to using other data dictionaries?"
   ]
  },
  {
   "cell_type": "markdown",
   "id": "d9cbaa3e",
   "metadata": {},
   "source": [
    "Only string data type can be used as key in this special dictionary object, whereas any picklable Python object can be used as value."
   ]
  }
 ],
 "metadata": {
  "kernelspec": {
   "display_name": "Python 3 (ipykernel)",
   "language": "python",
   "name": "python3"
  },
  "language_info": {
   "codemirror_mode": {
    "name": "ipython",
    "version": 3
   },
   "file_extension": ".py",
   "mimetype": "text/x-python",
   "name": "python",
   "nbconvert_exporter": "python",
   "pygments_lexer": "ipython3",
   "version": "3.9.12"
  }
 },
 "nbformat": 4,
 "nbformat_minor": 5
}
