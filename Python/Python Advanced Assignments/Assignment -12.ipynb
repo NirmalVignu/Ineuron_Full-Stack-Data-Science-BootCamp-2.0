{
 "cells": [
  {
   "cell_type": "markdown",
   "id": "1091ce19",
   "metadata": {},
   "source": [
    "### Name: Varigonda Sai Nirmal Vignu\n",
    "### Email: varigondanirmal1@gmail.com\n",
    "### Assignment - 12"
   ]
  },
  {
   "cell_type": "markdown",
   "id": "fc003f4c",
   "metadata": {},
   "source": [
    "### Q1. Does assigning a value to a string's indexed character violate Python's string immutability ?"
   ]
  },
  {
   "cell_type": "markdown",
   "id": "0e6a2d1b",
   "metadata": {},
   "source": [
    " String’s indexed character cannot to be assigned a New value , as Strings are immutable.\n",
    " ```python\n",
    "Example:\n",
    "name = \"Nirmal\"\n",
    "name[0] = \"V\" # Raises TypeError\n",
    "```"
   ]
  },
  {
   "cell_type": "markdown",
   "id": "85aec222",
   "metadata": {},
   "source": [
    "### Q2. Does using the += operator to concatenate strings violate Python's string immutability? Why or why not ?"
   ]
  },
  {
   "cell_type": "markdown",
   "id": "116e052b",
   "metadata": {},
   "source": [
    "`+=` operator is used to concatenate strings, it does not violate Python’s string immutability Property. Because doing so new creates a new association with data and variable. E.g. `str1=\"a\" and str1+=\"b\"`. effect of this statements to create string ab and reassign it to variable str_1, any string data is not actually modified.Does not Modify existing string, Creates a New String Object"
   ]
  },
  {
   "cell_type": "code",
   "execution_count": 19,
   "id": "b0c3bc5c",
   "metadata": {},
   "outputs": [
    {
     "name": "stdout",
     "output_type": "stream",
     "text": [
      "Memory address of str1-  1328063829488\n",
      "Memory address of str1 after concatination-  1328191643440\n",
      "Value -  a\n",
      "Value -  ab\n"
     ]
    }
   ],
   "source": [
    "import ctypes\n",
    "\n",
    "str1 = 'a'\n",
    "address=id(str1)\n",
    "print(\"Memory address of str1- \", address)\n",
    "\n",
    "str1 += 'b'\n",
    "address2=id(str1)\n",
    "print(\"Memory address of str1 after concatination- \", address2)\n",
    "# Does not Modify existing string, Creates a New String Object\n",
    "\n",
    "val = ctypes.cast(address, ctypes.py_object).value\n",
    "print(\"Value - \", val)\n",
    "\n",
    "value = ctypes.cast(address2, ctypes.py_object).value\n",
    "print(\"Value - \", value)"
   ]
  },
  {
   "cell_type": "markdown",
   "id": "d0fb191c",
   "metadata": {},
   "source": [
    "### Q3. In Python, how many different ways are there to index a character?"
   ]
  },
  {
   "cell_type": "markdown",
   "id": "90eb6c57",
   "metadata": {},
   "source": [
    "A Character in string can be indexed using string name followed by index number of character in square bracket. **Positive Indexing** i.e. first index is 0 an so on, or **Negative Indexing** i.e. last letter is -1 and so on can be used to index a character"
   ]
  },
  {
   "cell_type": "code",
   "execution_count": 22,
   "id": "39ebaaf9",
   "metadata": {},
   "outputs": [
    {
     "name": "stdout",
     "output_type": "stream",
     "text": [
      "N i r\n",
      "m a l\n"
     ]
    }
   ],
   "source": [
    "s=\"Nirmal\"\n",
    "\n",
    "print(s[0],s[1],s[2]) # Positive Indexing\n",
    "print(s[-3],s[-2],s[-1]) # Negative Indexing"
   ]
  },
  {
   "cell_type": "markdown",
   "id": "4388a349",
   "metadata": {},
   "source": [
    "### Q4. What is the relationship between indexing and slicing?"
   ]
  },
  {
   "cell_type": "markdown",
   "id": "cf65e481",
   "metadata": {},
   "source": [
    "We can access elements of sequence datatypes by using slicing and indexing. Indexing is used to obtaining individual element while slicing for sequence of elements."
   ]
  },
  {
   "cell_type": "code",
   "execution_count": 27,
   "id": "b6d02799",
   "metadata": {},
   "outputs": [
    {
     "name": "stdout",
     "output_type": "stream",
     "text": [
      "N e u\n",
      "Neu\n"
     ]
    }
   ],
   "source": [
    "string = \"iNeuron Full Stack Data Science\"\n",
    "print(string[1],string[2],string[3]) # Indexing\n",
    "print(string[1:4]) # Slicing"
   ]
  },
  {
   "cell_type": "markdown",
   "id": "395c303d",
   "metadata": {},
   "source": [
    "### Q5. What is an indexed character's exact data type? What is the data form of a slicing-generated substring?"
   ]
  },
  {
   "cell_type": "markdown",
   "id": "8fd73dc4",
   "metadata": {},
   "source": [
    " Indexed characters and sliced substrings have datatype **String(str)**."
   ]
  },
  {
   "cell_type": "code",
   "execution_count": 26,
   "id": "47f07c8f",
   "metadata": {},
   "outputs": [
    {
     "name": "stdout",
     "output_type": "stream",
     "text": [
      "Type of indexed character  <class 'str'>\n",
      "Type of slicing-generated substring  <class 'str'>\n"
     ]
    }
   ],
   "source": [
    "string = \"iNeuron Full Stack Data Science\"\n",
    "print(\"Type of indexed character \",type(string[1])) # Indexing\n",
    "print(\"Type of slicing-generated substring \",type(string[1:3])) # Slicing"
   ]
  },
  {
   "cell_type": "markdown",
   "id": "f860f717",
   "metadata": {},
   "source": [
    "### Q6. What is the relationship between string and character \"types\" in Python?"
   ]
  },
  {
   "cell_type": "markdown",
   "id": "8c93efd5",
   "metadata": {},
   "source": [
    "Object that contains sequence of character datatypes are called String."
   ]
  },
  {
   "cell_type": "markdown",
   "id": "4e7352d0",
   "metadata": {},
   "source": [
    " ### Q7. Identify at least two operators & one method that allow you to combine one or more smaller strings to create a larger string ?"
   ]
  },
  {
   "cell_type": "markdown",
   "id": "c990fba8",
   "metadata": {},
   "source": [
    "`+, += and *` allow to combine one or more smaller strings to create a larger string. `<string>.join(<sep>)` method joins element of iterable type like list and tuple to get a combined string."
   ]
  },
  {
   "cell_type": "code",
   "execution_count": 31,
   "id": "58b29787",
   "metadata": {},
   "outputs": [
    {
     "name": "stdout",
     "output_type": "stream",
     "text": [
      "iNeuron Full Stack Data Science FSDS 2.0\n",
      "FSDS 2.0 FSDS 2.0 FSDS 2.0 \n",
      "INEURON\n",
      "ineuron\n"
     ]
    }
   ],
   "source": [
    "in_string = 'iNeuron '\n",
    "in_string += 'Full Stack Data Science'\n",
    "print(in_string + ' FSDS 2.0')\n",
    "print('FSDS 2.0 '*3)\n",
    "print(\"\".join(['I','N','E','U','R','O','N'])) # List Iterable\n",
    "print(\"\".join(('I','N','E','U','R','O','N')).lower()) # Tuple Iterable"
   ]
  },
  {
   "cell_type": "markdown",
   "id": "012119ab",
   "metadata": {},
   "source": [
    "### Q8. What is the benefit of first checking the target string with in or not in before using the index method to find a substring ?"
   ]
  },
  {
   "cell_type": "markdown",
   "id": "542dc38d",
   "metadata": {},
   "source": [
    "Checking the target string with in or not Operators before using the index method to find a substring just helps confirming availability of substring and thus avoid raising of ValueError."
   ]
  },
  {
   "cell_type": "code",
   "execution_count": 36,
   "id": "c30d5131",
   "metadata": {},
   "outputs": [
    {
     "name": "stdout",
     "output_type": "stream",
     "text": [
      "substring not found\n"
     ]
    }
   ],
   "source": [
    "try:\n",
    "    in_string = \"ineuron\"\n",
    "    in_string.index('x') # Raises ValueError\n",
    "except ValueError as e:\n",
    "    print(e)"
   ]
  },
  {
   "cell_type": "markdown",
   "id": "9dcb36a4",
   "metadata": {},
   "source": [
    "### Q9. Which operators and built-in string methods produce simple Boolean (true/false) results?"
   ]
  },
  {
   "cell_type": "markdown",
   "id": "d40d0e0c",
   "metadata": {},
   "source": [
    "The String Operators and built-in methods to Produce Simple Boolean (True/False) Results are:"
   ]
  },
  {
   "cell_type": "markdown",
   "id": "f284c844",
   "metadata": {},
   "source": [
    "* in\n",
    "* is\n",
    "* not\n",
    "* \\<string>.isalpha()\n",
    "* \\<string>.isalnum()\n",
    "* \\<string>.isdecimal()\n",
    "* \\<string>.isdigit()\n",
    "* \\<string>.islower()\n",
    "* \\<string>.isnumeric()\n",
    "* \\<string>.isprintable()\n",
    "* \\<string>.isspace()\n",
    "* \\<string>.istitle()"
   ]
  }
 ],
 "metadata": {
  "kernelspec": {
   "display_name": "Python 3 (ipykernel)",
   "language": "python",
   "name": "python3"
  },
  "language_info": {
   "codemirror_mode": {
    "name": "ipython",
    "version": 3
   },
   "file_extension": ".py",
   "mimetype": "text/x-python",
   "name": "python",
   "nbconvert_exporter": "python",
   "pygments_lexer": "ipython3",
   "version": "3.9.12"
  }
 },
 "nbformat": 4,
 "nbformat_minor": 5
}
