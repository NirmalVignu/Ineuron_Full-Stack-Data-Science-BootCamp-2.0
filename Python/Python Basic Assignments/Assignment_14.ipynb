{
 "cells": [
  {
   "cell_type": "markdown",
   "id": "4f5fccf2",
   "metadata": {},
   "source": [
    "### Name: Varigonda Sai Nirmal Vignu\n",
    "### Email: varigondanirmal1@gmail.com\n",
    "### Assignment - 14"
   ]
  },
  {
   "cell_type": "markdown",
   "id": "3697408e",
   "metadata": {},
   "source": [
    "### 1. What does RGBA stand for?"
   ]
  },
  {
   "cell_type": "markdown",
   "id": "02803b4a",
   "metadata": {},
   "source": [
    "* RGBA is a four-channel format containing data for Red, Green, Blue, and an Alpha value. Where Alpha Represents the Opacity\n",
    "* An RGBA value is a tuple of 4 integers, each ranging from 0 to 255. The four integers correspond"
   ]
  },
  {
   "cell_type": "markdown",
   "id": "f2a4496e",
   "metadata": {},
   "source": [
    "### 2. From the Pillow module, how do you get the RGBA value of any images?"
   ]
  },
  {
   "cell_type": "markdown",
   "id": "394fe9cb",
   "metadata": {},
   "source": [
    "**PIL.ImageColor.getcolor(color, mode)** gives rgba value of any image\n"
   ]
  },
  {
   "cell_type": "markdown",
   "id": "1fc03e1b",
   "metadata": {},
   "source": [
    "### 3. What is a box tuple, and how does it work?"
   ]
  },
  {
   "cell_type": "markdown",
   "id": "20e3ae32",
   "metadata": {},
   "source": [
    "A box tuple is a tuple value of four integers: the left-edge x-coordinate, the top-edge y-coordinate,the width, and the height, respectively.Many of Pillow’s functions and methods take a box tuple argument. This means Pillow is expecting a tuple of four integer coordinates that represent a rectangular region in an image."
   ]
  },
  {
   "cell_type": "markdown",
   "id": "b519947d",
   "metadata": {},
   "source": [
    "### 4. Use your image and load in notebook then, How can you find out the width and height of an Image object?"
   ]
  },
  {
   "cell_type": "code",
   "execution_count": 5,
   "id": "cb91f3bd",
   "metadata": {},
   "outputs": [
    {
     "name": "stdout",
     "output_type": "stream",
     "text": [
      "Width, Height -> (390, 508)\n",
      "Width, Height -> 390,508\n"
     ]
    }
   ],
   "source": [
    "from PIL import Image\n",
    "im=Image.open('nirmal_photo.JPG')\n",
    "print(f'Width, Height -> {im.size}') # Approach 1\n",
    "print(f'Width, Height -> {im.width},{im.height}') # Approach 2"
   ]
  },
  {
   "cell_type": "markdown",
   "id": "234db223",
   "metadata": {},
   "source": [
    "### 5. What method would you call to get Image object for a 100×100 image, excluding the lower-left quarter of it?"
   ]
  },
  {
   "cell_type": "code",
   "execution_count": 63,
   "id": "6bf15b59",
   "metadata": {},
   "outputs": [
    {
     "name": "stdout",
     "output_type": "stream",
     "text": [
      "size : (1600, 900)\n"
     ]
    },
    {
     "data": {
      "text/plain": [
       "(100, 100)"
      ]
     },
     "execution_count": 63,
     "metadata": {},
     "output_type": "execute_result"
    }
   ],
   "source": [
    "from PIL import Image\n",
    "img = Image.open('download.png')\n",
    "\n",
    "print(\"size :\",img.size)\n",
    "img2 = img.crop((0, 50, 100,150)) # (left, top, right, bottom)\n",
    "img2.size"
   ]
  },
  {
   "cell_type": "code",
   "execution_count": 64,
   "id": "d20a0082",
   "metadata": {},
   "outputs": [
    {
     "data": {
      "text/plain": [
       "(50, 0)"
      ]
     },
     "execution_count": 64,
     "metadata": {},
     "output_type": "execute_result"
    }
   ],
   "source": [
    "new_img = img.crop((0,50,50,50)) # (left, top, right, bottom)\n",
    "new_img.size"
   ]
  },
  {
   "cell_type": "markdown",
   "id": "0e692601",
   "metadata": {},
   "source": [
    "### 6. After making changes to an Image object, how could you save it as an image file?"
   ]
  },
  {
   "cell_type": "code",
   "execution_count": 24,
   "id": "08eb3ce5",
   "metadata": {},
   "outputs": [],
   "source": [
    "angle = 40\n",
    "img = Image.open(r\"download.png\")\n",
    "r_img = img.rotate(angle)\n",
    "r_img.save('rotated_img.png')"
   ]
  },
  {
   "cell_type": "markdown",
   "id": "44d85f0a",
   "metadata": {},
   "source": [
    "### 7. What module contains Pillow’s shape-drawing code?"
   ]
  },
  {
   "cell_type": "markdown",
   "id": "e2c8a0d1",
   "metadata": {},
   "source": [
    " Pillows **ImageDraw module** contains Shape drawing methods"
   ]
  },
  {
   "cell_type": "markdown",
   "id": "514e7fe3",
   "metadata": {},
   "source": [
    "### 8. Image objects do not have drawing methods. What kind of object does? How do you get this kind of object?"
   ]
  },
  {
   "cell_type": "markdown",
   "id": "82361c5b",
   "metadata": {},
   "source": [
    " ImageDraw objects have shape-drawing methods such as **point(), line(), or rectangle()**.They are returned by passing the Image object to the **ImageDraw.Draw()** function."
   ]
  }
 ],
 "metadata": {
  "kernelspec": {
   "display_name": "Python 3 (ipykernel)",
   "language": "python",
   "name": "python3"
  },
  "language_info": {
   "codemirror_mode": {
    "name": "ipython",
    "version": 3
   },
   "file_extension": ".py",
   "mimetype": "text/x-python",
   "name": "python",
   "nbconvert_exporter": "python",
   "pygments_lexer": "ipython3",
   "version": "3.9.12"
  }
 },
 "nbformat": 4,
 "nbformat_minor": 5
}
