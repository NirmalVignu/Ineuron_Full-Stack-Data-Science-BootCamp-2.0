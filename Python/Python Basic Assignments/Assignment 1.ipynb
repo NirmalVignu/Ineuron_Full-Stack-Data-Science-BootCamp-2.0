{
 "cells": [
  {
   "cell_type": "markdown",
   "id": "02eee523",
   "metadata": {},
   "source": [
    "### Name: Varigonda Sai Nirmal Vignu\n",
    "### Email: varigondanirmal1@gmail.com"
   ]
  },
  {
   "cell_type": "markdown",
   "id": "068e3dac",
   "metadata": {},
   "source": [
    "### 1. In the below elements which of them are values or an expression? eg:- values can be integer or string and expressions will be mathematical operators.\n",
    "\n",
    "*\n",
    "\n",
    "'hello'\n",
    "\n",
    "-87.8\n",
    "\n",
    "-\n",
    "\n",
    "/\n",
    "\n",
    "+\n",
    "\n",
    "6\n"
   ]
  },
  {
   "cell_type": "raw",
   "id": "9255f0ae",
   "metadata": {},
   "source": [
    "* is expression (It is a multplication operator)\n",
    "\n",
    "'hello' -> value(String value)\n",
    "\n",
    "-87.8 -> value(float value)\n",
    "\n",
    "- is expression (It is a Subtraction operator)\n",
    "\n",
    "+ is expression (It is a Addition operator)\n",
    "\n",
    "6 -> value(Integer value)\n"
   ]
  },
  {
   "cell_type": "markdown",
   "id": "e3408a06",
   "metadata": {},
   "source": [
    "### 2. What is the difference between string and variable?"
   ]
  },
  {
   "cell_type": "markdown",
   "id": "0502412a",
   "metadata": {},
   "source": [
    "**String** is a class, A reference datatype it is used to represent text type data.\n",
    "\n",
    "**Variable** is any alphabet or group of alphabet which work as temporary storage locations , a variable is used to represent any value\n",
    "\n",
    "example ::\n",
    "\n",
    "String x=\"nirmal\"\n",
    "\n",
    "here x is variable and type of value stores in it is string"
   ]
  },
  {
   "cell_type": "markdown",
   "id": "642ba7d6",
   "metadata": {},
   "source": [
    "### 3. Describe three different data types."
   ]
  },
  {
   "cell_type": "markdown",
   "id": "46898431",
   "metadata": {},
   "source": [
    "The three main different data types in python are-\n",
    "* Integer\n",
    "* Float\n",
    "* String\n",
    "\n",
    "int data type: We can use int data type to represent whole numbers (integral values)\n",
    "\n",
    "float data type: We can use float data type to represent floating point values (decimal values)\n",
    "\n",
    "string data type: String is used to repersent the sequence of characters. Also the characters can be numbers, special character, and alphabates. "
   ]
  },
  {
   "cell_type": "code",
   "execution_count": 4,
   "id": "ffac40ca",
   "metadata": {},
   "outputs": [
    {
     "name": "stdout",
     "output_type": "stream",
     "text": [
      "data type of 12 is <class 'int'>\n",
      "data type of 12.24 is <class 'float'>\n",
      "data type of nirmal is <class 'str'>\n"
     ]
    }
   ],
   "source": [
    "n1=12\n",
    "print(f\"data type of {n1} is {type(n1)}\")\n",
    "n2=12.24\n",
    "print(f\"data type of {n2} is {type(n2)}\")\n",
    "n3=\"nirmal\"\n",
    "print(f\"data type of {n3} is {type(n3)}\")"
   ]
  },
  {
   "cell_type": "markdown",
   "id": "2dac435d",
   "metadata": {},
   "source": [
    "### 4. What is an expression made up of? What do all expressions do?"
   ]
  },
  {
   "cell_type": "markdown",
   "id": "351bd6f5",
   "metadata": {},
   "source": [
    "Expression is the combinaton of mathematical operators, variables or Constants. It consists of one or more operand and zero or more operators to produce a value.\n",
    "\n",
    "Expression is used to produce some result or value."
   ]
  },
  {
   "cell_type": "code",
   "execution_count": 8,
   "id": "21bb3e61",
   "metadata": {},
   "outputs": [
    {
     "data": {
      "text/plain": [
       "0"
      ]
     },
     "execution_count": 8,
     "metadata": {},
     "output_type": "execute_result"
    }
   ],
   "source": [
    "12-32//2+4 ## Is an expression which produce a value of 0"
   ]
  },
  {
   "cell_type": "markdown",
   "id": "ac908b2e",
   "metadata": {},
   "source": [
    "### 5. This assignment statements, like spam = 10. What is the difference between an expression and a statement?"
   ]
  },
  {
   "cell_type": "markdown",
   "id": "fbcbf8cb",
   "metadata": {},
   "source": [
    "* Assignment statement : It is the statement where some value or expression is assigned to a variable or constant.\n",
    "* Expression : Expression is the combinaton of mathematical operators, variables or Constants\n",
    "* Difference : The difference is that expression itself is assigned to a variable or constant.\n",
    "\n",
    "Example:\n",
    "spam = 10\n",
    "\n",
    "In the example \" spam = 10  \" is a assignment statement whereas the \" 10 \" is an expression"
   ]
  },
  {
   "cell_type": "markdown",
   "id": "6bab81d0",
   "metadata": {},
   "source": [
    "### 6. After running the following code, what does the variable bacon contain?\n",
    "bacon = 22\n",
    "\n",
    "bacon + 1\n",
    "\n"
   ]
  },
  {
   "cell_type": "code",
   "execution_count": 9,
   "id": "2ed63061",
   "metadata": {},
   "outputs": [
    {
     "data": {
      "text/plain": [
       "23"
      ]
     },
     "execution_count": 9,
     "metadata": {},
     "output_type": "execute_result"
    }
   ],
   "source": [
    "bacon = 22\n",
    "\n",
    "bacon + 1"
   ]
  },
  {
   "cell_type": "code",
   "execution_count": 10,
   "id": "fea87b8f",
   "metadata": {},
   "outputs": [
    {
     "data": {
      "text/plain": [
       "22"
      ]
     },
     "execution_count": 10,
     "metadata": {},
     "output_type": "execute_result"
    }
   ],
   "source": [
    "bacon"
   ]
  },
  {
   "cell_type": "markdown",
   "id": "80560534",
   "metadata": {},
   "source": [
    "bacon will contain 22 because in the second line we are adding +1 to bacon but to reflect the change we are not assing the value back to bacon"
   ]
  },
  {
   "cell_type": "markdown",
   "id": "264e9eea",
   "metadata": {},
   "source": [
    "### 7. What should the values of the following two terms be?\n",
    "'spam' +'spamspam'\n",
    "\n",
    "'spam*3'"
   ]
  },
  {
   "cell_type": "code",
   "execution_count": 15,
   "id": "fd1c7861",
   "metadata": {},
   "outputs": [
    {
     "name": "stdout",
     "output_type": "stream",
     "text": [
      "spamspamspam\n",
      "spamspamspam\n"
     ]
    }
   ],
   "source": [
    "print('spam' + 'spamspam')\n",
    "print('spam' * 3)"
   ]
  },
  {
   "cell_type": "markdown",
   "id": "302ff032",
   "metadata": {},
   "source": [
    "* 'spam' + 'spamspam' = 'spamspamspam'\n",
    "* 'spam' * 3 = 'spamspamspam'"
   ]
  },
  {
   "cell_type": "markdown",
   "id": "b89993c7",
   "metadata": {},
   "source": [
    "### 8. Why is eggs a valid variable name while 100 is invalid?"
   ]
  },
  {
   "cell_type": "markdown",
   "id": "459a5ee6",
   "metadata": {},
   "source": [
    "As per python,Variable names cannot begin with a number. The python rules for naming a variable are :-\n",
    "\n",
    "* Variable name must start with a letter or the underscore character.\n",
    "* Variable name cannot start with a number.\n",
    "* Variable name can only contain alpha-numeric characters and underscores (A-z, 0-9, & _ ).\n",
    "* Variable names are case-sensitive (name, INEURON and ineuron are three different variables).\n",
    "* The reserved words(keywords) cannot be used naming the variable."
   ]
  },
  {
   "cell_type": "code",
   "execution_count": 17,
   "id": "f4c79cf2",
   "metadata": {},
   "outputs": [
    {
     "ename": "SyntaxError",
     "evalue": "cannot assign to literal (3587390137.py, line 3)",
     "output_type": "error",
     "traceback": [
      "\u001b[1;36m  Input \u001b[1;32mIn [17]\u001b[1;36m\u001b[0m\n\u001b[1;33m    100=\"hi\" # Invalid Initialization\u001b[0m\n\u001b[1;37m    ^\u001b[0m\n\u001b[1;31mSyntaxError\u001b[0m\u001b[1;31m:\u001b[0m cannot assign to literal\n"
     ]
    }
   ],
   "source": [
    "egg=\"hi\" # valid Initialization\n",
    "print(egg)\n",
    "100=\"hi\" # Invalid Initialization\n"
   ]
  },
  {
   "cell_type": "markdown",
   "id": "a56b3acc",
   "metadata": {},
   "source": [
    "### 9. What three functions can be used to get the integer, floating-point number, or string version of a value?"
   ]
  },
  {
   "cell_type": "markdown",
   "id": "1102cd96",
   "metadata": {},
   "source": [
    "* for integer : int()\n",
    "\n",
    "* for floating-point number : float()\n",
    "\n",
    "* for string : str()"
   ]
  },
  {
   "cell_type": "code",
   "execution_count": 21,
   "id": "174cd62a",
   "metadata": {},
   "outputs": [
    {
     "name": "stdout",
     "output_type": "stream",
     "text": [
      "int(12.5) =  12 <class 'int'>\n",
      "float(12) ->  12.0 <class 'float'>\n",
      "str(1234) ->  1234 <class 'str'>\n"
     ]
    }
   ],
   "source": [
    "print('int(12.5) = ',int(12.5),type(int(10.0))) # int() function converts given input to int\n",
    "print('float(12) -> ',float(12),type(float(12))) # float() function converts given input to float\n",
    "print('str(1234) -> ',str(1234),type(str(1234))) # str() function converts given input to string\n"
   ]
  },
  {
   "cell_type": "markdown",
   "id": "af0e18b4",
   "metadata": {},
   "source": [
    "### 10. Why does this expression cause an error? How can you fix it?\n",
    "'I have eaten' + 99 + 'burritos'"
   ]
  },
  {
   "cell_type": "markdown",
   "id": "455408ae",
   "metadata": {},
   "source": [
    "In the above expression + will work as concatination operator which will add two strings but in the given expression we are trying to concatenate String and int values which shows error\n",
    "\n",
    "Solution for problem is we have to convert integer to string i.e; typecasting by using str() we convert 99 to string type and perform the concatination"
   ]
  },
  {
   "cell_type": "code",
   "execution_count": 26,
   "id": "513ef19b",
   "metadata": {},
   "outputs": [
    {
     "name": "stdout",
     "output_type": "stream",
     "text": [
      "I have eaten 99 burritos\n"
     ]
    }
   ],
   "source": [
    "\n",
    "print('I have eaten ' + str(99) + ' burritos')"
   ]
  },
  {
   "cell_type": "code",
   "execution_count": null,
   "id": "9ab0e7b0",
   "metadata": {},
   "outputs": [],
   "source": []
  }
 ],
 "metadata": {
  "kernelspec": {
   "display_name": "Python 3 (ipykernel)",
   "language": "python",
   "name": "python3"
  },
  "language_info": {
   "codemirror_mode": {
    "name": "ipython",
    "version": 3
   },
   "file_extension": ".py",
   "mimetype": "text/x-python",
   "name": "python",
   "nbconvert_exporter": "python",
   "pygments_lexer": "ipython3",
   "version": "3.9.12"
  }
 },
 "nbformat": 4,
 "nbformat_minor": 5
}
