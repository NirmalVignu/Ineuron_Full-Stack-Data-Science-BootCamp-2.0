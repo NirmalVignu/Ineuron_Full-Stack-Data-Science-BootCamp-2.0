{
 "cells": [
  {
   "cell_type": "markdown",
   "id": "1c32f02d",
   "metadata": {},
   "source": [
    "### Name: Varigonda Sai Nirmal Vignu\n",
    "### Email: varigondanirmal1@gmail.com\n",
    "### ML_Assignment - 1"
   ]
  },
  {
   "cell_type": "markdown",
   "id": "3c5ffbea",
   "metadata": {},
   "source": [
    "### 1. What does one mean by the term \"machine learning\" ?"
   ]
  },
  {
   "cell_type": "markdown",
   "id": "9243ff95",
   "metadata": {},
   "source": [
    "Machine learning is a subfield of artificial intelligence, which is broadly defined as the capability of a machine to imitate intelligent human behavior. Artificial intelligence systems are used to perform complex tasks in a way that is similar to how humans solve problems."
   ]
  },
  {
   "cell_type": "markdown",
   "id": "503c106f",
   "metadata": {},
   "source": [
    "### 2.Can you think of 4 distinct types of issues where it shines ?"
   ]
  },
  {
   "cell_type": "markdown",
   "id": "1ad07eed",
   "metadata": {},
   "source": [
    "Machine Learning is excellent for complex problems for which we have no algorithmic solution, to replace long lists of hand-tuned rules, to build systems that adapt to fluctuating environments, and finally to help humans learn such has spam detection in email, cancer diagnosis, fraudulent credit card transactions, and automatically driving vehicles."
   ]
  },
  {
   "cell_type": "markdown",
   "id": "6cfedb7b",
   "metadata": {},
   "source": [
    "### 3.What is a labeled training set, and how does it work ?"
   ]
  },
  {
   "cell_type": "markdown",
   "id": "cfca91cc",
   "metadata": {},
   "source": [
    "A labeled training set is a training set that contains the desired solution (label) for each instance.\n",
    "You split up the data containing known response variable values into two pieces. The training set is used to train the algorithm, and then you use the trained model on the test set to predict the response variable values that are already known."
   ]
  },
  {
   "cell_type": "markdown",
   "id": "c30147ec",
   "metadata": {},
   "source": [
    "### 4.What are the two most important tasks that are supervised ?"
   ]
  },
  {
   "cell_type": "markdown",
   "id": "aea0922a",
   "metadata": {},
   "source": [
    "The two most common supervised tasks are regression and classification."
   ]
  },
  {
   "cell_type": "markdown",
   "id": "6e6ea0c1",
   "metadata": {},
   "source": [
    "### 5.Can you think of four examples of unsupervised tasks ?"
   ]
  },
  {
   "cell_type": "markdown",
   "id": "aec18d83",
   "metadata": {},
   "source": [
    "Four common Unsupervised Tasks included `Clustering`, `Visualization`, `Dimensionality Reduction`, and `Association Rule Learning`."
   ]
  },
  {
   "cell_type": "markdown",
   "id": "d03a438d",
   "metadata": {},
   "source": [
    "### 6.State the machine learning model that would be best to make a robot walk through various unfamiliar terrains ?"
   ]
  },
  {
   "cell_type": "markdown",
   "id": "bd21f3e0",
   "metadata": {},
   "source": [
    "Reinforcement Learning is likely to perform best if we want a robot to learn to walk in various unknown terrains since this is typically the type of problem that Reinforcement Learning tackles. It might be possible to express the issue as a supervised or semisupervised learning problem, but it would be less natural."
   ]
  },
  {
   "cell_type": "markdown",
   "id": "9c8ccc12",
   "metadata": {},
   "source": [
    "### 7.Which algorithm will you use to divide your customers into different groups ?"
   ]
  },
  {
   "cell_type": "markdown",
   "id": "491f0061",
   "metadata": {},
   "source": [
    "If you don’t know how to define the groups, then you can use a clustering algorithm `( unsupervised learning )` to segment your customers into clusters of similar customers. However, if you know what groups you would like to have, then you can feed many examples of each group to a classification algorithm `( Supervised learning )`, and it will classify all your customers into these groups."
   ]
  },
  {
   "cell_type": "markdown",
   "id": "fd5bd966",
   "metadata": {},
   "source": [
    "### 8.Will you consider the problem of spam detection to be a supervised or unsupervised learning problem ?"
   ]
  },
  {
   "cell_type": "markdown",
   "id": "68936c64",
   "metadata": {},
   "source": [
    "Spam detection is a typical supervised learning problem; the algorithm is fed many emails along with their labels ( spam or not spam)."
   ]
  },
  {
   "cell_type": "markdown",
   "id": "c1b7c59b",
   "metadata": {},
   "source": [
    "### 9.What is the concept of an online learning system ?"
   ]
  },
  {
   "cell_type": "markdown",
   "id": "f85c9c7a",
   "metadata": {},
   "source": [
    "An online learning system can learn incrementally, as opposed to a batch learning system. This makes it capable of adapting rapidly to both changing data and autonomous systems, and of training on vast quantities of data."
   ]
  },
  {
   "cell_type": "markdown",
   "id": "8c3af315",
   "metadata": {},
   "source": [
    "### 10.What is out-of-core learning, and how does it differ from core learning ?"
   ]
  },
  {
   "cell_type": "markdown",
   "id": "7bdde4c3",
   "metadata": {},
   "source": [
    "Out-of-core learning system is a system that can handle data that cannot fit into your computer memory. It uses online learning system to feed data in small bits"
   ]
  },
  {
   "cell_type": "markdown",
   "id": "559f5e35",
   "metadata": {},
   "source": [
    "### 11.What kind of learning algorithm makes predictions using a similarity measure ?"
   ]
  },
  {
   "cell_type": "markdown",
   "id": "f47f66f7",
   "metadata": {},
   "source": [
    "An `instance-based learning system` learns the training data by heart; then, when given a new instance, it uses a similarity measure to find the most similar learned cases and uses them to make predictions."
   ]
  },
  {
   "cell_type": "markdown",
   "id": "84b50c01",
   "metadata": {},
   "source": [
    "### 12.What's the difference between a model parameter and a hyperparameter in a learning algorithm ?"
   ]
  },
  {
   "cell_type": "markdown",
   "id": "a78ef011",
   "metadata": {},
   "source": [
    " Model parameter determines how a model will predict given a new instance. Model usually has more than one parameter (i.e. slope of a linear model). Hyperparameter is a parameter for the learning algorithm, not of a model."
   ]
  },
  {
   "cell_type": "markdown",
   "id": "7387167e",
   "metadata": {},
   "source": [
    "### 13.What are the criteria that model-based learning algorithms look for? What is the most popular method they use to achieve success? What method do they use to make predictions ?"
   ]
  },
  {
   "cell_type": "markdown",
   "id": "ac2ae76c",
   "metadata": {},
   "source": [
    " Model based learning algorithm search for the optimal value of parameters in a model that will give the best results for the new instances. We often use a cost function or similar to determine what the parameter value has to be in order to minimize the function. The model makes prediction by using the value of the new instance and the parameters in its function."
   ]
  },
  {
   "cell_type": "markdown",
   "id": "4a548821",
   "metadata": {},
   "source": [
    "### 14.Can you name four of the most important Machine Learning challenges ?"
   ]
  },
  {
   "cell_type": "markdown",
   "id": "320744a3",
   "metadata": {},
   "source": [
    "Four main challenges in Machine Learning include the following:\n",
    "\n",
    "1. Overfitting the Data (using a model too complicated)\n",
    "2. Underfitting the data (using a simple model)\n",
    "3. Lacking in Data\n",
    "4. Non Representative Data."
   ]
  },
  {
   "cell_type": "markdown",
   "id": "315653d6",
   "metadata": {},
   "source": [
    "### 15.What happens if the model performs well on the training data but fails to generalize the results to new situations? Can you think of three different options ?"
   ]
  },
  {
   "cell_type": "markdown",
   "id": "c6ff53e9",
   "metadata": {},
   "source": [
    "If the model performs poorly to new instances, then it has overfitted on the training data. To solve this, we can do any of the following three:\n",
    "\n",
    "* Get more data\n",
    "* Implement a simpler model\n",
    "* Eliminate outliers or noise from the existing data set."
   ]
  },
  {
   "cell_type": "markdown",
   "id": "bbea35cc",
   "metadata": {},
   "source": [
    "### 16.What exactly is a test set, and why would you need one ?"
   ]
  },
  {
   "cell_type": "markdown",
   "id": "34b33739",
   "metadata": {},
   "source": [
    "Test set is a set to test your model (fit using training data) to see how it performs.Test set is necessary to determine how good (or bad) a model performs."
   ]
  },
  {
   "cell_type": "markdown",
   "id": "80cde39d",
   "metadata": {},
   "source": [
    "### 17.What is a validation set's purpose ?"
   ]
  },
  {
   "cell_type": "markdown",
   "id": "3ad159f8",
   "metadata": {},
   "source": [
    "A validation set is used to compare models. It makes it possible to select the best model and tune the hyperparameters."
   ]
  },
  {
   "cell_type": "markdown",
   "id": "8663f4aa",
   "metadata": {},
   "source": [
    "### 18.What precisely is the train-dev kit, when will you need it, how do you put it to use ?"
   ]
  },
  {
   "cell_type": "markdown",
   "id": "20c4c992",
   "metadata": {},
   "source": [
    "Cross-validation is a tool to compare models without needing a separate validation set. It is preferred over validation set because we can save from breaking of part of the training set to create a validation set, as having more data is valuable regardless."
   ]
  },
  {
   "cell_type": "markdown",
   "id": "5fe185c1",
   "metadata": {},
   "source": [
    "### 19.What could go wrong if you use the test set to tune hyperparameters ?"
   ]
  },
  {
   "cell_type": "markdown",
   "id": "6dab7992",
   "metadata": {},
   "source": [
    "If you tune hyperparameters using the test set, you risk overfitting the test set, and the generalization error you measure will be optimistic ( you may launch a machine learning model that performs worse than you expect)."
   ]
  }
 ],
 "metadata": {
  "kernelspec": {
   "display_name": "Python 3 (ipykernel)",
   "language": "python",
   "name": "python3"
  },
  "language_info": {
   "codemirror_mode": {
    "name": "ipython",
    "version": 3
   },
   "file_extension": ".py",
   "mimetype": "text/x-python",
   "name": "python",
   "nbconvert_exporter": "python",
   "pygments_lexer": "ipython3",
   "version": "3.9.16"
  }
 },
 "nbformat": 4,
 "nbformat_minor": 5
}
